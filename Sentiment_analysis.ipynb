{
  "nbformat": 4,
  "nbformat_minor": 0,
  "metadata": {
    "kernelspec": {
      "display_name": "Python 3",
      "language": "python",
      "name": "python3"
    },
    "language_info": {
      "codemirror_mode": {
        "name": "ipython",
        "version": 3
      },
      "file_extension": ".py",
      "mimetype": "text/x-python",
      "name": "python",
      "nbconvert_exporter": "python",
      "pygments_lexer": "ipython3",
      "version": "3.7.4"
    },
    "colab": {
      "name": "Sentiment analysis.ipynb",
      "provenance": []
    }
  },
  "cells": [
    {
      "cell_type": "code",
      "metadata": {
        "id": "jt1TnH5lEbWC",
        "colab_type": "code",
        "colab": {}
      },
      "source": [
        "import numpy as np\n",
        "import pandas as pd\n",
        "import matplotlib.pyplot as plt"
      ],
      "execution_count": 0,
      "outputs": []
    },
    {
      "cell_type": "code",
      "metadata": {
        "id": "bCY9ClqfFS4c",
        "colab_type": "code",
        "colab": {
          "resources": {
            "http://localhost:8080/nbextensions/google.colab/files.js": {
              "data": "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",
              "ok": true,
              "headers": [
                [
                  "content-type",
                  "application/javascript"
                ]
              ],
              "status": 200,
              "status_text": ""
            }
          },
          "base_uri": "https://localhost:8080/",
          "height": 74
        },
        "outputId": "0d72eea5-6f83-4dae-c522-ba5ee775a4b7"
      },
      "source": [
        "from google.colab import files\n",
        "uploaded = files.upload()"
      ],
      "execution_count": 5,
      "outputs": [
        {
          "output_type": "display_data",
          "data": {
            "text/html": [
              "\n",
              "     <input type=\"file\" id=\"files-47aee5a1-8b6d-4490-a2a2-e026f6e042d0\" name=\"files[]\" multiple disabled />\n",
              "     <output id=\"result-47aee5a1-8b6d-4490-a2a2-e026f6e042d0\">\n",
              "      Upload widget is only available when the cell has been executed in the\n",
              "      current browser session. Please rerun this cell to enable.\n",
              "      </output>\n",
              "      <script src=\"/nbextensions/google.colab/files.js\"></script> "
            ],
            "text/plain": [
              "<IPython.core.display.HTML object>"
            ]
          },
          "metadata": {
            "tags": []
          }
        },
        {
          "output_type": "stream",
          "text": [
            "Saving sentiment_5_class.csv to sentiment_5_class.csv\n"
          ],
          "name": "stdout"
        }
      ]
    },
    {
      "cell_type": "code",
      "metadata": {
        "id": "bNFwUuKBEbWN",
        "colab_type": "code",
        "colab": {
          "base_uri": "https://localhost:8080/",
          "height": 402
        },
        "outputId": "d27353a0-01f8-4219-a2c6-523bfc4725d5"
      },
      "source": [
        "data=pd.read_csv(\"sentiment_5_class.csv\")\n",
        "data"
      ],
      "execution_count": 6,
      "outputs": [
        {
          "output_type": "execute_result",
          "data": {
            "text/html": [
              "<div>\n",
              "<style scoped>\n",
              "    .dataframe tbody tr th:only-of-type {\n",
              "        vertical-align: middle;\n",
              "    }\n",
              "\n",
              "    .dataframe tbody tr th {\n",
              "        vertical-align: top;\n",
              "    }\n",
              "\n",
              "    .dataframe thead th {\n",
              "        text-align: right;\n",
              "    }\n",
              "</style>\n",
              "<table border=\"1\" class=\"dataframe\">\n",
              "  <thead>\n",
              "    <tr style=\"text-align: right;\">\n",
              "      <th></th>\n",
              "      <th>Phrase</th>\n",
              "      <th>Sentiment</th>\n",
              "    </tr>\n",
              "  </thead>\n",
              "  <tbody>\n",
              "    <tr>\n",
              "      <th>0</th>\n",
              "      <td>injects just enough freshness into the proceed...</td>\n",
              "      <td>3</td>\n",
              "    </tr>\n",
              "    <tr>\n",
              "      <th>1</th>\n",
              "      <td>that</td>\n",
              "      <td>2</td>\n",
              "    </tr>\n",
              "    <tr>\n",
              "      <th>2</th>\n",
              "      <td>never plays as dramatic even when dramatic thi...</td>\n",
              "      <td>0</td>\n",
              "    </tr>\n",
              "    <tr>\n",
              "      <th>3</th>\n",
              "      <td>None of this is very original , and it is n't ...</td>\n",
              "      <td>0</td>\n",
              "    </tr>\n",
              "    <tr>\n",
              "      <th>4</th>\n",
              "      <td>, Madonna gives her best performance since Abe...</td>\n",
              "      <td>3</td>\n",
              "    </tr>\n",
              "    <tr>\n",
              "      <th>...</th>\n",
              "      <td>...</td>\n",
              "      <td>...</td>\n",
              "    </tr>\n",
              "    <tr>\n",
              "      <th>18384</th>\n",
              "      <td>to balance pointed , often incisive satire and...</td>\n",
              "      <td>3</td>\n",
              "    </tr>\n",
              "    <tr>\n",
              "      <th>18385</th>\n",
              "      <td>have to be a most hard-hearted person not to b...</td>\n",
              "      <td>4</td>\n",
              "    </tr>\n",
              "    <tr>\n",
              "      <th>18386</th>\n",
              "      <td>could young romantics out on a date</td>\n",
              "      <td>3</td>\n",
              "    </tr>\n",
              "    <tr>\n",
              "      <th>18387</th>\n",
              "      <td>could be this good</td>\n",
              "      <td>3</td>\n",
              "    </tr>\n",
              "    <tr>\n",
              "      <th>18388</th>\n",
              "      <td>such a dungpile</td>\n",
              "      <td>0</td>\n",
              "    </tr>\n",
              "  </tbody>\n",
              "</table>\n",
              "<p>18389 rows × 2 columns</p>\n",
              "</div>"
            ],
            "text/plain": [
              "                                                  Phrase  Sentiment\n",
              "0      injects just enough freshness into the proceed...          3\n",
              "1                                                   that          2\n",
              "2      never plays as dramatic even when dramatic thi...          0\n",
              "3      None of this is very original , and it is n't ...          0\n",
              "4      , Madonna gives her best performance since Abe...          3\n",
              "...                                                  ...        ...\n",
              "18384  to balance pointed , often incisive satire and...          3\n",
              "18385  have to be a most hard-hearted person not to b...          4\n",
              "18386                could young romantics out on a date          3\n",
              "18387                                 could be this good          3\n",
              "18388                                    such a dungpile          0\n",
              "\n",
              "[18389 rows x 2 columns]"
            ]
          },
          "metadata": {
            "tags": []
          },
          "execution_count": 6
        }
      ]
    },
    {
      "cell_type": "code",
      "metadata": {
        "id": "qqLjGx_kFPBS",
        "colab_type": "code",
        "colab": {
          "resources": {
            "http://localhost:8080/nbextensions/google.colab/files.js": {
              "data": "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",
              "ok": true,
              "headers": [
                [
                  "content-type",
                  "application/javascript"
                ]
              ],
              "status": 200,
              "status_text": ""
            }
          },
          "base_uri": "https://localhost:8080/",
          "height": 74
        },
        "outputId": "f2e2b66d-98f6-4352-96ff-8ab876cb49bf"
      },
      "source": [
        "from google.colab import files\n",
        "uploaded = files.upload()"
      ],
      "execution_count": 7,
      "outputs": [
        {
          "output_type": "display_data",
          "data": {
            "text/html": [
              "\n",
              "     <input type=\"file\" id=\"files-1b953f03-1a0e-46ea-a61d-8f2fdae15884\" name=\"files[]\" multiple disabled />\n",
              "     <output id=\"result-1b953f03-1a0e-46ea-a61d-8f2fdae15884\">\n",
              "      Upload widget is only available when the cell has been executed in the\n",
              "      current browser session. Please rerun this cell to enable.\n",
              "      </output>\n",
              "      <script src=\"/nbextensions/google.colab/files.js\"></script> "
            ],
            "text/plain": [
              "<IPython.core.display.HTML object>"
            ]
          },
          "metadata": {
            "tags": []
          }
        },
        {
          "output_type": "stream",
          "text": [
            "Saving sentiment_5_class_test.csv to sentiment_5_class_test.csv\n"
          ],
          "name": "stdout"
        }
      ]
    },
    {
      "cell_type": "code",
      "metadata": {
        "id": "67ikE16PEbWW",
        "colab_type": "code",
        "colab": {
          "base_uri": "https://localhost:8080/",
          "height": 402
        },
        "outputId": "d9d9f4c2-cd4c-44c8-ff80-8f0a9114dc93"
      },
      "source": [
        "test_data=pd.read_csv(\"sentiment_5_class_test.csv\")\n",
        "test_data"
      ],
      "execution_count": 8,
      "outputs": [
        {
          "output_type": "execute_result",
          "data": {
            "text/html": [
              "<div>\n",
              "<style scoped>\n",
              "    .dataframe tbody tr th:only-of-type {\n",
              "        vertical-align: middle;\n",
              "    }\n",
              "\n",
              "    .dataframe tbody tr th {\n",
              "        vertical-align: top;\n",
              "    }\n",
              "\n",
              "    .dataframe thead th {\n",
              "        text-align: right;\n",
              "    }\n",
              "</style>\n",
              "<table border=\"1\" class=\"dataframe\">\n",
              "  <thead>\n",
              "    <tr style=\"text-align: right;\">\n",
              "      <th></th>\n",
              "      <th>Phrase</th>\n",
              "      <th>Sentiment</th>\n",
              "    </tr>\n",
              "  </thead>\n",
              "  <tbody>\n",
              "    <tr>\n",
              "      <th>0</th>\n",
              "      <td>makes for a touching love story , mainly becau...</td>\n",
              "      <td>3</td>\n",
              "    </tr>\n",
              "    <tr>\n",
              "      <th>1</th>\n",
              "      <td>a truly magical movie</td>\n",
              "      <td>4</td>\n",
              "    </tr>\n",
              "    <tr>\n",
              "      <th>2</th>\n",
              "      <td>check</td>\n",
              "      <td>3</td>\n",
              "    </tr>\n",
              "    <tr>\n",
              "      <th>3</th>\n",
              "      <td>is a remarkably accessible and haunting film .</td>\n",
              "      <td>4</td>\n",
              "    </tr>\n",
              "    <tr>\n",
              "      <th>4</th>\n",
              "      <td>are too cute</td>\n",
              "      <td>3</td>\n",
              "    </tr>\n",
              "    <tr>\n",
              "      <th>...</th>\n",
              "      <td>...</td>\n",
              "      <td>...</td>\n",
              "    </tr>\n",
              "    <tr>\n",
              "      <th>3673</th>\n",
              "      <td>feel realistic</td>\n",
              "      <td>3</td>\n",
              "    </tr>\n",
              "    <tr>\n",
              "      <th>3674</th>\n",
              "      <td>startling story</td>\n",
              "      <td>3</td>\n",
              "    </tr>\n",
              "    <tr>\n",
              "      <th>3675</th>\n",
              "      <td>hollow</td>\n",
              "      <td>1</td>\n",
              "    </tr>\n",
              "    <tr>\n",
              "      <th>3676</th>\n",
              "      <td>released the outtakes</td>\n",
              "      <td>2</td>\n",
              "    </tr>\n",
              "    <tr>\n",
              "      <th>3677</th>\n",
              "      <td>What a bewilderingly brilliant and entertainin...</td>\n",
              "      <td>4</td>\n",
              "    </tr>\n",
              "  </tbody>\n",
              "</table>\n",
              "<p>3678 rows × 2 columns</p>\n",
              "</div>"
            ],
            "text/plain": [
              "                                                 Phrase  Sentiment\n",
              "0     makes for a touching love story , mainly becau...          3\n",
              "1                                 a truly magical movie          4\n",
              "2                                                 check          3\n",
              "3        is a remarkably accessible and haunting film .          4\n",
              "4                                          are too cute          3\n",
              "...                                                 ...        ...\n",
              "3673                                     feel realistic          3\n",
              "3674                                    startling story          3\n",
              "3675                                             hollow          1\n",
              "3676                              released the outtakes          2\n",
              "3677  What a bewilderingly brilliant and entertainin...          4\n",
              "\n",
              "[3678 rows x 2 columns]"
            ]
          },
          "metadata": {
            "tags": []
          },
          "execution_count": 8
        }
      ]
    },
    {
      "cell_type": "code",
      "metadata": {
        "id": "8pFRjo5ZF69E",
        "colab_type": "code",
        "colab": {
          "resources": {
            "http://localhost:8080/nbextensions/google.colab/files.js": {
              "data": "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",
              "ok": true,
              "headers": [
                [
                  "content-type",
                  "application/javascript"
                ]
              ],
              "status": 200,
              "status_text": ""
            }
          },
          "base_uri": "https://localhost:8080/",
          "height": 74
        },
        "outputId": "a4adf2bf-8b49-4345-9f78-3f60dd851f8a"
      },
      "source": [
        "from google.colab import files\n",
        "uploaded = files.upload()"
      ],
      "execution_count": 9,
      "outputs": [
        {
          "output_type": "display_data",
          "data": {
            "text/html": [
              "\n",
              "     <input type=\"file\" id=\"files-88258950-948b-4505-805a-11e8335a012f\" name=\"files[]\" multiple disabled />\n",
              "     <output id=\"result-88258950-948b-4505-805a-11e8335a012f\">\n",
              "      Upload widget is only available when the cell has been executed in the\n",
              "      current browser session. Please rerun this cell to enable.\n",
              "      </output>\n",
              "      <script src=\"/nbextensions/google.colab/files.js\"></script> "
            ],
            "text/plain": [
              "<IPython.core.display.HTML object>"
            ]
          },
          "metadata": {
            "tags": []
          }
        },
        {
          "output_type": "stream",
          "text": [
            "Saving sentiment_5_class_train.csv to sentiment_5_class_train.csv\n"
          ],
          "name": "stdout"
        }
      ]
    },
    {
      "cell_type": "code",
      "metadata": {
        "id": "zPRNaihSEbWd",
        "colab_type": "code",
        "colab": {
          "base_uri": "https://localhost:8080/",
          "height": 402
        },
        "outputId": "292d9721-66d4-45f4-9aa9-1c19bda999a8"
      },
      "source": [
        "train_data=pd.read_csv(\"sentiment_5_class_train.csv\")\n",
        "train_data"
      ],
      "execution_count": 10,
      "outputs": [
        {
          "output_type": "execute_result",
          "data": {
            "text/html": [
              "<div>\n",
              "<style scoped>\n",
              "    .dataframe tbody tr th:only-of-type {\n",
              "        vertical-align: middle;\n",
              "    }\n",
              "\n",
              "    .dataframe tbody tr th {\n",
              "        vertical-align: top;\n",
              "    }\n",
              "\n",
              "    .dataframe thead th {\n",
              "        text-align: right;\n",
              "    }\n",
              "</style>\n",
              "<table border=\"1\" class=\"dataframe\">\n",
              "  <thead>\n",
              "    <tr style=\"text-align: right;\">\n",
              "      <th></th>\n",
              "      <th>Phrase</th>\n",
              "      <th>Sentiment</th>\n",
              "    </tr>\n",
              "  </thead>\n",
              "  <tbody>\n",
              "    <tr>\n",
              "      <th>0</th>\n",
              "      <td>the prisoner</td>\n",
              "      <td>2</td>\n",
              "    </tr>\n",
              "    <tr>\n",
              "      <th>1</th>\n",
              "      <td>The sheer joy and pride they took in their wor...</td>\n",
              "      <td>3</td>\n",
              "    </tr>\n",
              "    <tr>\n",
              "      <th>2</th>\n",
              "      <td>has never made a more sheerly beautiful film t...</td>\n",
              "      <td>3</td>\n",
              "    </tr>\n",
              "    <tr>\n",
              "      <th>3</th>\n",
              "      <td>the story has the sizzle of old news that has ...</td>\n",
              "      <td>3</td>\n",
              "    </tr>\n",
              "    <tr>\n",
              "      <th>4</th>\n",
              "      <td>far superior</td>\n",
              "      <td>4</td>\n",
              "    </tr>\n",
              "    <tr>\n",
              "      <th>...</th>\n",
              "      <td>...</td>\n",
              "      <td>...</td>\n",
              "    </tr>\n",
              "    <tr>\n",
              "      <th>14706</th>\n",
              "      <td>really cool bit</td>\n",
              "      <td>3</td>\n",
              "    </tr>\n",
              "    <tr>\n",
              "      <th>14707</th>\n",
              "      <td>Next Great Thing</td>\n",
              "      <td>3</td>\n",
              "    </tr>\n",
              "    <tr>\n",
              "      <th>14708</th>\n",
              "      <td>shockingly bad and absolutely unnecessary</td>\n",
              "      <td>0</td>\n",
              "    </tr>\n",
              "    <tr>\n",
              "      <th>14709</th>\n",
              "      <td>First , for a movie that tries to be smart , i...</td>\n",
              "      <td>1</td>\n",
              "    </tr>\n",
              "    <tr>\n",
              "      <th>14710</th>\n",
              "      <td>it 's difficult not to cuss him out severely f...</td>\n",
              "      <td>1</td>\n",
              "    </tr>\n",
              "  </tbody>\n",
              "</table>\n",
              "<p>14711 rows × 2 columns</p>\n",
              "</div>"
            ],
            "text/plain": [
              "                                                  Phrase  Sentiment\n",
              "0                                           the prisoner          2\n",
              "1      The sheer joy and pride they took in their wor...          3\n",
              "2      has never made a more sheerly beautiful film t...          3\n",
              "3      the story has the sizzle of old news that has ...          3\n",
              "4                                           far superior          4\n",
              "...                                                  ...        ...\n",
              "14706                                    really cool bit          3\n",
              "14707                                   Next Great Thing          3\n",
              "14708          shockingly bad and absolutely unnecessary          0\n",
              "14709  First , for a movie that tries to be smart , i...          1\n",
              "14710  it 's difficult not to cuss him out severely f...          1\n",
              "\n",
              "[14711 rows x 2 columns]"
            ]
          },
          "metadata": {
            "tags": []
          },
          "execution_count": 10
        }
      ]
    },
    {
      "cell_type": "markdown",
      "metadata": {
        "id": "vgXQYHVREbWl",
        "colab_type": "text"
      },
      "source": [
        "## Data Cleaning"
      ]
    },
    {
      "cell_type": "code",
      "metadata": {
        "id": "RwFcUMlCEbWn",
        "colab_type": "code",
        "colab": {
          "base_uri": "https://localhost:8080/",
          "height": 67
        },
        "outputId": "59594573-e0a5-4ec1-c84c-9b3214183ace"
      },
      "source": [
        "# null value present or not\n",
        "data.isna().sum()"
      ],
      "execution_count": 11,
      "outputs": [
        {
          "output_type": "execute_result",
          "data": {
            "text/plain": [
              "Phrase       0\n",
              "Sentiment    0\n",
              "dtype: int64"
            ]
          },
          "metadata": {
            "tags": []
          },
          "execution_count": 11
        }
      ]
    },
    {
      "cell_type": "markdown",
      "metadata": {
        "id": "Bsu1oBK5EbWt",
        "colab_type": "text"
      },
      "source": [
        "## Data analysis and visualization"
      ]
    },
    {
      "cell_type": "code",
      "metadata": {
        "id": "VjhRPRN4EbWu",
        "colab_type": "code",
        "colab": {
          "base_uri": "https://localhost:8080/",
          "height": 34
        },
        "outputId": "f4da482a-1f1f-42ee-a0bc-f8af7faeffc9"
      },
      "source": [
        "total_df=len(data)\n",
        "total_df"
      ],
      "execution_count": 61,
      "outputs": [
        {
          "output_type": "execute_result",
          "data": {
            "text/plain": [
              "18389"
            ]
          },
          "metadata": {
            "tags": []
          },
          "execution_count": 61
        }
      ]
    },
    {
      "cell_type": "code",
      "metadata": {
        "id": "zjYKDvWYEbW1",
        "colab_type": "code",
        "colab": {
          "base_uri": "https://localhost:8080/",
          "height": 195
        },
        "outputId": "10e11030-3ebf-4d77-efd6-615ba33967b7"
      },
      "source": [
        "data.head()"
      ],
      "execution_count": 62,
      "outputs": [
        {
          "output_type": "execute_result",
          "data": {
            "text/html": [
              "<div>\n",
              "<style scoped>\n",
              "    .dataframe tbody tr th:only-of-type {\n",
              "        vertical-align: middle;\n",
              "    }\n",
              "\n",
              "    .dataframe tbody tr th {\n",
              "        vertical-align: top;\n",
              "    }\n",
              "\n",
              "    .dataframe thead th {\n",
              "        text-align: right;\n",
              "    }\n",
              "</style>\n",
              "<table border=\"1\" class=\"dataframe\">\n",
              "  <thead>\n",
              "    <tr style=\"text-align: right;\">\n",
              "      <th></th>\n",
              "      <th>Phrase</th>\n",
              "      <th>Sentiment</th>\n",
              "    </tr>\n",
              "  </thead>\n",
              "  <tbody>\n",
              "    <tr>\n",
              "      <th>0</th>\n",
              "      <td>injects just enough freshness into the proceed...</td>\n",
              "      <td>3</td>\n",
              "    </tr>\n",
              "    <tr>\n",
              "      <th>1</th>\n",
              "      <td>that</td>\n",
              "      <td>2</td>\n",
              "    </tr>\n",
              "    <tr>\n",
              "      <th>2</th>\n",
              "      <td>never plays as dramatic even when dramatic thi...</td>\n",
              "      <td>0</td>\n",
              "    </tr>\n",
              "    <tr>\n",
              "      <th>3</th>\n",
              "      <td>None of this is very original , and it is n't ...</td>\n",
              "      <td>0</td>\n",
              "    </tr>\n",
              "    <tr>\n",
              "      <th>4</th>\n",
              "      <td>, Madonna gives her best performance since Abe...</td>\n",
              "      <td>3</td>\n",
              "    </tr>\n",
              "  </tbody>\n",
              "</table>\n",
              "</div>"
            ],
            "text/plain": [
              "                                              Phrase  Sentiment\n",
              "0  injects just enough freshness into the proceed...          3\n",
              "1                                               that          2\n",
              "2  never plays as dramatic even when dramatic thi...          0\n",
              "3  None of this is very original , and it is n't ...          0\n",
              "4  , Madonna gives her best performance since Abe...          3"
            ]
          },
          "metadata": {
            "tags": []
          },
          "execution_count": 62
        }
      ]
    },
    {
      "cell_type": "code",
      "metadata": {
        "id": "gnRB2BTaEbW8",
        "colab_type": "code",
        "colab": {
          "base_uri": "https://localhost:8080/",
          "height": 34
        },
        "outputId": "689b057f-bdc1-4739-83b8-0edcb4ac46aa"
      },
      "source": [
        "sentiment_list=data.Sentiment.unique().tolist()\n",
        "print(sentiment_list)"
      ],
      "execution_count": 63,
      "outputs": [
        {
          "output_type": "stream",
          "text": [
            "[3, 2, 0, 4, 1]\n"
          ],
          "name": "stdout"
        }
      ]
    },
    {
      "cell_type": "code",
      "metadata": {
        "id": "F4h7bpYyEbXD",
        "colab_type": "code",
        "colab": {
          "base_uri": "https://localhost:8080/",
          "height": 168
        },
        "outputId": "4e02cc86-3549-4aa9-e3cb-2d55e2e353dc"
      },
      "source": [
        "data.info()"
      ],
      "execution_count": 64,
      "outputs": [
        {
          "output_type": "stream",
          "text": [
            "<class 'pandas.core.frame.DataFrame'>\n",
            "RangeIndex: 18389 entries, 0 to 18388\n",
            "Data columns (total 2 columns):\n",
            " #   Column     Non-Null Count  Dtype \n",
            "---  ------     --------------  ----- \n",
            " 0   Phrase     18389 non-null  object\n",
            " 1   Sentiment  18389 non-null  int64 \n",
            "dtypes: int64(1), object(1)\n",
            "memory usage: 287.5+ KB\n"
          ],
          "name": "stdout"
        }
      ]
    },
    {
      "cell_type": "code",
      "metadata": {
        "id": "ClElaVbIEbXJ",
        "colab_type": "code",
        "colab": {
          "base_uri": "https://localhost:8080/",
          "height": 284
        },
        "outputId": "9aad35b0-6197-4e0c-b132-43f0d99a2f58"
      },
      "source": [
        "data.describe()"
      ],
      "execution_count": 65,
      "outputs": [
        {
          "output_type": "execute_result",
          "data": {
            "text/html": [
              "<div>\n",
              "<style scoped>\n",
              "    .dataframe tbody tr th:only-of-type {\n",
              "        vertical-align: middle;\n",
              "    }\n",
              "\n",
              "    .dataframe tbody tr th {\n",
              "        vertical-align: top;\n",
              "    }\n",
              "\n",
              "    .dataframe thead th {\n",
              "        text-align: right;\n",
              "    }\n",
              "</style>\n",
              "<table border=\"1\" class=\"dataframe\">\n",
              "  <thead>\n",
              "    <tr style=\"text-align: right;\">\n",
              "      <th></th>\n",
              "      <th>Sentiment</th>\n",
              "    </tr>\n",
              "  </thead>\n",
              "  <tbody>\n",
              "    <tr>\n",
              "      <th>count</th>\n",
              "      <td>18389.000000</td>\n",
              "    </tr>\n",
              "    <tr>\n",
              "      <th>mean</th>\n",
              "      <td>2.760672</td>\n",
              "    </tr>\n",
              "    <tr>\n",
              "      <th>std</th>\n",
              "      <td>1.113323</td>\n",
              "    </tr>\n",
              "    <tr>\n",
              "      <th>min</th>\n",
              "      <td>0.000000</td>\n",
              "    </tr>\n",
              "    <tr>\n",
              "      <th>25%</th>\n",
              "      <td>2.000000</td>\n",
              "    </tr>\n",
              "    <tr>\n",
              "      <th>50%</th>\n",
              "      <td>3.000000</td>\n",
              "    </tr>\n",
              "    <tr>\n",
              "      <th>75%</th>\n",
              "      <td>3.000000</td>\n",
              "    </tr>\n",
              "    <tr>\n",
              "      <th>max</th>\n",
              "      <td>4.000000</td>\n",
              "    </tr>\n",
              "  </tbody>\n",
              "</table>\n",
              "</div>"
            ],
            "text/plain": [
              "          Sentiment\n",
              "count  18389.000000\n",
              "mean       2.760672\n",
              "std        1.113323\n",
              "min        0.000000\n",
              "25%        2.000000\n",
              "50%        3.000000\n",
              "75%        3.000000\n",
              "max        4.000000"
            ]
          },
          "metadata": {
            "tags": []
          },
          "execution_count": 65
        }
      ]
    },
    {
      "cell_type": "code",
      "metadata": {
        "id": "kpfeNXzXEbXP",
        "colab_type": "code",
        "colab": {
          "base_uri": "https://localhost:8080/",
          "height": 34
        },
        "outputId": "348dc7f7-8018-43d1-c68f-eb070b86f053"
      },
      "source": [
        "\n",
        "shape_train_data=train_data.shape\n",
        "print(shape_train_data)\n"
      ],
      "execution_count": 66,
      "outputs": [
        {
          "output_type": "stream",
          "text": [
            "(14711, 2)\n"
          ],
          "name": "stdout"
        }
      ]
    },
    {
      "cell_type": "code",
      "metadata": {
        "id": "7atfAgWwEbXW",
        "colab_type": "code",
        "colab": {
          "base_uri": "https://localhost:8080/",
          "height": 34
        },
        "outputId": "511a6b03-ed43-4aba-e1e0-b5445e5340d7"
      },
      "source": [
        "shape_test_data=test_data.shape\n",
        "print(shape_test_data)"
      ],
      "execution_count": 67,
      "outputs": [
        {
          "output_type": "stream",
          "text": [
            "(3678, 2)\n"
          ],
          "name": "stdout"
        }
      ]
    },
    {
      "cell_type": "markdown",
      "metadata": {
        "id": "WpVyiMR6EbXf",
        "colab_type": "text"
      },
      "source": [
        "## count of number of phrases according to sentiment type in training dataset"
      ]
    },
    {
      "cell_type": "code",
      "metadata": {
        "id": "3rgbLpcMEbXg",
        "colab_type": "code",
        "colab": {}
      },
      "source": [
        "\n",
        "from collections import Counter"
      ],
      "execution_count": 0,
      "outputs": []
    },
    {
      "cell_type": "code",
      "metadata": {
        "id": "MGVXYgXFEbXm",
        "colab_type": "code",
        "colab": {
          "base_uri": "https://localhost:8080/",
          "height": 34
        },
        "outputId": "1a5e03d4-c895-4e6f-e10f-60011a842591"
      },
      "source": [
        "\n",
        "\n",
        "labels_count_train_data=Counter(train_data['Sentiment']) \n",
        "print(labels_count_train_data)\n"
      ],
      "execution_count": 69,
      "outputs": [
        {
          "output_type": "stream",
          "text": [
            "Counter({3: 7033, 4: 3649, 2: 1876, 1: 1165, 0: 988})\n"
          ],
          "name": "stdout"
        }
      ]
    },
    {
      "cell_type": "code",
      "metadata": {
        "id": "qlYixgNfEbXs",
        "colab_type": "code",
        "colab": {
          "base_uri": "https://localhost:8080/",
          "height": 312
        },
        "outputId": "e5afce5f-0c85-4c14-bc01-1ba9dcec1cdd"
      },
      "source": [
        "\n",
        "plt.bar(range(len(labels_count_train_data)),list(labels_count_train_data.values()),tick_label=list(labels_count_train_data.keys()))\n",
        "plt.xlabel(\"Sentiment Types \")\n",
        "plt.ylabel(\"Number of Phrases\")\n",
        "plt.title(\"Number of phrase of each sentiment\")"
      ],
      "execution_count": 70,
      "outputs": [
        {
          "output_type": "execute_result",
          "data": {
            "text/plain": [
              "Text(0.5, 1.0, 'Number of phrase of each sentiment')"
            ]
          },
          "metadata": {
            "tags": []
          },
          "execution_count": 70
        },
        {
          "output_type": "display_data",
          "data": {
            "image/png": "[encoded data removed]",
            "text/plain": [
              "<Figure size 432x288 with 1 Axes>"
            ]
          },
          "metadata": {
            "tags": [],
            "needs_background": "light"
          }
        }
      ]
    },
    {
      "cell_type": "markdown",
      "metadata": {
        "id": "W9uN4ae9EbXx",
        "colab_type": "text"
      },
      "source": [
        "#### count of number of phrases according to sentiment type in testing dataset"
      ]
    },
    {
      "cell_type": "code",
      "metadata": {
        "id": "dgMqI9_8EbXy",
        "colab_type": "code",
        "colab": {
          "base_uri": "https://localhost:8080/",
          "height": 34
        },
        "outputId": "0b2427de-b3c7-4c5c-8ee8-f4ea2906827a"
      },
      "source": [
        "\n",
        "labels_count_test_data=Counter(test_data[\"Sentiment\"])\n",
        "print(labels_count_test_data)"
      ],
      "execution_count": 71,
      "outputs": [
        {
          "output_type": "stream",
          "text": [
            "Counter({3: 1759, 4: 912, 2: 469, 1: 291, 0: 247})\n"
          ],
          "name": "stdout"
        }
      ]
    },
    {
      "cell_type": "code",
      "metadata": {
        "id": "2AGf4D3bEbX5",
        "colab_type": "code",
        "colab": {
          "base_uri": "https://localhost:8080/",
          "height": 312
        },
        "outputId": "1893a55d-1b6d-4122-9dbd-c7e1b5e3cd97"
      },
      "source": [
        "plt.bar(range(len(labels_count_test_data)),list(labels_count_test_data.values()),tick_label=list(labels_count_test_data.keys()))\n",
        "plt.xlabel(\"Sentiment Types \")\n",
        "plt.ylabel(\"Number of Phrases\")\n",
        "plt.title(\"Number of phrase of each sentiment\")"
      ],
      "execution_count": 72,
      "outputs": [
        {
          "output_type": "execute_result",
          "data": {
            "text/plain": [
              "Text(0.5, 1.0, 'Number of phrase of each sentiment')"
            ]
          },
          "metadata": {
            "tags": []
          },
          "execution_count": 72
        },
        {
          "output_type": "display_data",
          "data": {
            "image/png": "[encoded data removed]",
            "text/plain": [
              "<Figure size 432x288 with 1 Axes>"
            ]
          },
          "metadata": {
            "tags": [],
            "needs_background": "light"
          }
        }
      ]
    },
    {
      "cell_type": "markdown",
      "metadata": {
        "id": "F0ZSrVBhEbYB",
        "colab_type": "text"
      },
      "source": [
        "## Feature extraction and preprocessing"
      ]
    },
    {
      "cell_type": "code",
      "metadata": {
        "id": "tzMCANzYEbYC",
        "colab_type": "code",
        "colab": {}
      },
      "source": [
        "x_train=train_data.Phrase.tolist()\n",
        "x_test=test_data.Phrase.tolist()\n",
        "# print(x_test)\n",
        "y_train=train_data.Sentiment.tolist()\n",
        "y_test=test_data.Sentiment.tolist()"
      ],
      "execution_count": 0,
      "outputs": []
    },
    {
      "cell_type": "markdown",
      "metadata": {
        "id": "gEh-GDY1EbYL",
        "colab_type": "text"
      },
      "source": [
        "### CountVectorizer\n"
      ]
    },
    {
      "cell_type": "code",
      "metadata": {
        "id": "QbX8psmqEbYM",
        "colab_type": "code",
        "colab": {}
      },
      "source": [
        "from sklearn.feature_extraction.text import CountVectorizer"
      ],
      "execution_count": 0,
      "outputs": []
    },
    {
      "cell_type": "code",
      "metadata": {
        "id": "PRYmph7XEbYQ",
        "colab_type": "code",
        "colab": {}
      },
      "source": [
        "c_vectorizer = CountVectorizer()"
      ],
      "execution_count": 0,
      "outputs": []
    },
    {
      "cell_type": "code",
      "metadata": {
        "id": "vG19TZqZEbYV",
        "colab_type": "code",
        "colab": {
          "base_uri": "https://localhost:8080/",
          "height": 1000
        },
        "outputId": "fed67181-812e-4c51-f195-e5cb7da68663"
      },
      "source": [
        "c_vectorizer.fit(x_train)\n",
        "c_vectorizer.get_feature_names()"
      ],
      "execution_count": 15,
      "outputs": [
        {
          "output_type": "execute_result",
          "data": {
            "text/plain": [
              "['10',\n",
              " '100',\n",
              " '10th',\n",
              " '12',\n",
              " '120',\n",
              " '129',\n",
              " '13',\n",
              " '15',\n",
              " '168',\n",
              " '1790',\n",
              " '1899',\n",
              " '19',\n",
              " '1915',\n",
              " '1920',\n",
              " '1940s',\n",
              " '1950s',\n",
              " '1953',\n",
              " '1957',\n",
              " '1970s',\n",
              " '1971',\n",
              " '1975',\n",
              " '1980s',\n",
              " '1984',\n",
              " '1989',\n",
              " '1990',\n",
              " '19th',\n",
              " '20',\n",
              " '2000',\n",
              " '2002',\n",
              " '20th',\n",
              " '21st',\n",
              " '25',\n",
              " '26',\n",
              " '270',\n",
              " '30',\n",
              " '300',\n",
              " '3000',\n",
              " '3d',\n",
              " '48',\n",
              " '4ever',\n",
              " '50',\n",
              " '50s',\n",
              " '60',\n",
              " '60s',\n",
              " '70s',\n",
              " '71',\n",
              " '78',\n",
              " '80',\n",
              " '84',\n",
              " '86',\n",
              " '88',\n",
              " '90',\n",
              " '95',\n",
              " 'abandon',\n",
              " 'abandoned',\n",
              " 'abel',\n",
              " 'abhorrent',\n",
              " 'ability',\n",
              " 'able',\n",
              " 'aborted',\n",
              " 'abound',\n",
              " 'about',\n",
              " 'above',\n",
              " 'abridged',\n",
              " 'absolute',\n",
              " 'absolutely',\n",
              " 'absorb',\n",
              " 'absorbed',\n",
              " 'absorbing',\n",
              " 'absorption',\n",
              " 'abstract',\n",
              " 'absurdist',\n",
              " 'absurdly',\n",
              " 'abundant',\n",
              " 'abuse',\n",
              " 'abyss',\n",
              " 'academic',\n",
              " 'academy',\n",
              " 'accent',\n",
              " 'accents',\n",
              " 'accept',\n",
              " 'acceptable',\n",
              " 'accepting',\n",
              " 'accepts',\n",
              " 'access',\n",
              " 'accessibility',\n",
              " 'accessible',\n",
              " 'accident',\n",
              " 'accompanies',\n",
              " 'accomplish',\n",
              " 'accomplished',\n",
              " 'accomplishes',\n",
              " 'accomplishments',\n",
              " 'account',\n",
              " 'accountant',\n",
              " 'accumulated',\n",
              " 'accurate',\n",
              " 'accurately',\n",
              " 'ache',\n",
              " 'achero',\n",
              " 'achieve',\n",
              " 'achieved',\n",
              " 'achievement',\n",
              " 'achievements',\n",
              " 'achieves',\n",
              " 'achieving',\n",
              " 'acid',\n",
              " 'ackerman',\n",
              " 'acknowledges',\n",
              " 'acquire',\n",
              " 'across',\n",
              " 'act',\n",
              " 'acted',\n",
              " 'acting',\n",
              " 'action',\n",
              " 'actioners',\n",
              " 'actions',\n",
              " 'activities',\n",
              " 'actor',\n",
              " 'actors',\n",
              " 'actress',\n",
              " 'actresses',\n",
              " 'acts',\n",
              " 'actual',\n",
              " 'actually',\n",
              " 'acumen',\n",
              " 'acute',\n",
              " 'adage',\n",
              " 'adam',\n",
              " 'adamant',\n",
              " 'adaptation',\n",
              " 'adaptations',\n",
              " 'adapts',\n",
              " 'add',\n",
              " 'added',\n",
              " 'addict',\n",
              " 'adding',\n",
              " 'addition',\n",
              " 'address',\n",
              " 'adds',\n",
              " 'adequate',\n",
              " 'adequately',\n",
              " 'adjusting',\n",
              " 'admirable',\n",
              " 'admirably',\n",
              " 'admiration',\n",
              " 'admire',\n",
              " 'admirers',\n",
              " 'admiring',\n",
              " 'admission',\n",
              " 'admit',\n",
              " 'admittedly',\n",
              " 'admitting',\n",
              " 'adolescence',\n",
              " 'adolescent',\n",
              " 'adorability',\n",
              " 'adorable',\n",
              " 'adored',\n",
              " 'adorns',\n",
              " 'adrenaline',\n",
              " 'adrenalized',\n",
              " 'adrien',\n",
              " 'adult',\n",
              " 'adults',\n",
              " 'advantage',\n",
              " 'adventure',\n",
              " 'adventurous',\n",
              " 'advert',\n",
              " 'advice',\n",
              " 'aesop',\n",
              " 'aesthetics',\n",
              " 'affable',\n",
              " 'affair',\n",
              " 'affected',\n",
              " 'affecting',\n",
              " 'affection',\n",
              " 'affectionate',\n",
              " 'affections',\n",
              " 'affects',\n",
              " 'affirmational',\n",
              " 'affirming',\n",
              " 'affirms',\n",
              " 'affleck',\n",
              " 'aficionados',\n",
              " 'afloat',\n",
              " 'african',\n",
              " 'after',\n",
              " 'afterlife',\n",
              " 'again',\n",
              " 'against',\n",
              " 'age',\n",
              " 'aged',\n",
              " 'agendas',\n",
              " 'agent',\n",
              " 'agers',\n",
              " 'ages',\n",
              " 'aggressive',\n",
              " 'aggressively',\n",
              " 'aging',\n",
              " 'ago',\n",
              " 'agreeably',\n",
              " 'agreed',\n",
              " 'ah',\n",
              " 'ahead',\n",
              " 'ahem',\n",
              " 'ai',\n",
              " 'aid',\n",
              " 'aim',\n",
              " 'aimed',\n",
              " 'aimlessness',\n",
              " 'aims',\n",
              " 'air',\n",
              " 'airhead',\n",
              " 'airless',\n",
              " 'airy',\n",
              " 'akin',\n",
              " 'alabama',\n",
              " 'alacrity',\n",
              " 'albeit',\n",
              " 'alert',\n",
              " 'alexander',\n",
              " 'alfred',\n",
              " 'alias',\n",
              " 'alice',\n",
              " 'alienation',\n",
              " 'alike',\n",
              " 'alive',\n",
              " 'all',\n",
              " 'allegedly',\n",
              " 'allegory',\n",
              " 'allen',\n",
              " 'allow',\n",
              " 'allowing',\n",
              " 'allows',\n",
              " 'alluring',\n",
              " 'allusions',\n",
              " 'ally',\n",
              " 'almost',\n",
              " 'alone',\n",
              " 'along',\n",
              " 'alongside',\n",
              " 'aloof',\n",
              " 'already',\n",
              " 'also',\n",
              " 'alt',\n",
              " 'altar',\n",
              " 'alterations',\n",
              " 'altering',\n",
              " 'alternate',\n",
              " 'alternately',\n",
              " 'alternative',\n",
              " 'although',\n",
              " 'altogether',\n",
              " 'always',\n",
              " 'am',\n",
              " 'amaro',\n",
              " 'amassed',\n",
              " 'amateurish',\n",
              " 'amateurishly',\n",
              " 'amaze',\n",
              " 'amazing',\n",
              " 'amazingly',\n",
              " 'ambiguities',\n",
              " 'ambition',\n",
              " 'ambitious',\n",
              " 'ambivalent',\n",
              " 'america',\n",
              " 'american',\n",
              " 'americans',\n",
              " 'amiable',\n",
              " 'amid',\n",
              " 'amir',\n",
              " 'among',\n",
              " 'amos',\n",
              " 'amount',\n",
              " 'amounts',\n",
              " 'amours',\n",
              " 'amused',\n",
              " 'amusedly',\n",
              " 'amuses',\n",
              " 'amusing',\n",
              " 'amy',\n",
              " 'an',\n",
              " 'ana',\n",
              " 'anachronistic',\n",
              " 'anakin',\n",
              " 'analytical',\n",
              " 'analyze',\n",
              " 'anarchist',\n",
              " 'anchored',\n",
              " 'anchoring',\n",
              " 'anchors',\n",
              " 'and',\n",
              " 'anderson',\n",
              " 'andrei',\n",
              " 'angel',\n",
              " 'angle',\n",
              " 'angles',\n",
              " 'angst',\n",
              " 'anguish',\n",
              " 'anguished',\n",
              " 'animal',\n",
              " 'animals',\n",
              " 'animated',\n",
              " 'animation',\n",
              " 'animations',\n",
              " 'anne',\n",
              " 'annoying',\n",
              " 'anomie',\n",
              " 'anonymity',\n",
              " 'anonymous',\n",
              " 'another',\n",
              " 'answered',\n",
              " 'answering',\n",
              " 'answers',\n",
              " 'ante',\n",
              " 'anteing',\n",
              " 'anthony',\n",
              " 'anthropomorphic',\n",
              " 'anti',\n",
              " 'antic',\n",
              " 'anticipated',\n",
              " 'antics',\n",
              " 'antidote',\n",
              " 'antonia',\n",
              " 'antwone',\n",
              " 'any',\n",
              " 'anybody',\n",
              " 'anyone',\n",
              " 'anyplace',\n",
              " 'anything',\n",
              " 'anywhere',\n",
              " 'apart',\n",
              " 'apes',\n",
              " 'apex',\n",
              " 'appalling',\n",
              " 'apparent',\n",
              " 'appeal',\n",
              " 'appealing',\n",
              " 'appealingly',\n",
              " 'appear',\n",
              " 'appearance',\n",
              " 'appears',\n",
              " 'appetites',\n",
              " 'appetizer',\n",
              " 'appetizing',\n",
              " 'apple',\n",
              " 'apply',\n",
              " 'appointed',\n",
              " 'appreciate',\n",
              " 'appreciates',\n",
              " 'appreciation',\n",
              " 'appreciative',\n",
              " 'approach',\n",
              " 'approaches',\n",
              " 'appropriate',\n",
              " 'apted',\n",
              " 'arbitrarily',\n",
              " 'arc',\n",
              " 'arcane',\n",
              " 'arch',\n",
              " 'archetypal',\n",
              " 'architecture',\n",
              " 'ardor',\n",
              " 'arduous',\n",
              " 'are',\n",
              " 'area',\n",
              " 'argento',\n",
              " 'arguably',\n",
              " 'argue',\n",
              " 'arliss',\n",
              " 'armenians',\n",
              " 'arnie',\n",
              " 'arnold',\n",
              " 'around',\n",
              " 'arrive',\n",
              " 'arrives',\n",
              " 'arriving',\n",
              " 'art',\n",
              " 'arteta',\n",
              " 'artful',\n",
              " 'artfully',\n",
              " 'arthur',\n",
              " 'articulate',\n",
              " 'artifice',\n",
              " 'artificial',\n",
              " 'artificiality',\n",
              " 'artist',\n",
              " 'artistic',\n",
              " 'artistically',\n",
              " 'artists',\n",
              " 'arts',\n",
              " 'artsploitation',\n",
              " 'artsy',\n",
              " 'artworks',\n",
              " 'arty',\n",
              " 'as',\n",
              " 'ashamed',\n",
              " 'asian',\n",
              " 'asiaphiles',\n",
              " 'ask',\n",
              " 'asking',\n",
              " 'asks',\n",
              " 'asleep',\n",
              " 'asparagus',\n",
              " 'aspect',\n",
              " 'aspects',\n",
              " 'asphalt',\n",
              " 'aspirations',\n",
              " 'aspired',\n",
              " 'assassin',\n",
              " 'assault',\n",
              " 'assayas',\n",
              " 'assembled',\n",
              " 'assembly',\n",
              " 'asset',\n",
              " 'assimilated',\n",
              " 'associated',\n",
              " 'assumes',\n",
              " 'assured',\n",
              " 'astonish',\n",
              " 'astonishing',\n",
              " 'astonishingly',\n",
              " 'astounding',\n",
              " 'astoundingly',\n",
              " 'astringent',\n",
              " 'astronaut',\n",
              " 'astronauts',\n",
              " 'at',\n",
              " 'atmosphere',\n",
              " 'atmospheric',\n",
              " 'atmospherics',\n",
              " 'atrocious',\n",
              " 'attached',\n",
              " 'attal',\n",
              " 'attempt',\n",
              " 'attempts',\n",
              " 'attendant',\n",
              " 'attention',\n",
              " 'attitude',\n",
              " 'attract',\n",
              " 'attraction',\n",
              " 'attractive',\n",
              " 'attracts',\n",
              " 'attuned',\n",
              " 'audacious',\n",
              " 'audiard',\n",
              " 'audience',\n",
              " 'audiences',\n",
              " 'austerity',\n",
              " 'austin',\n",
              " 'australian',\n",
              " 'auteuil',\n",
              " 'auteur',\n",
              " 'authentic',\n",
              " 'authentically',\n",
              " 'authenticity',\n",
              " 'autobiographical',\n",
              " 'autocritique',\n",
              " 'automatically',\n",
              " 'avant',\n",
              " 'avengers',\n",
              " 'average',\n",
              " 'averse',\n",
              " 'aversion',\n",
              " 'averting',\n",
              " 'avoid',\n",
              " 'avoids',\n",
              " 'awake',\n",
              " 'award',\n",
              " 'awarded',\n",
              " 'awards',\n",
              " 'aware',\n",
              " 'awareness',\n",
              " 'away',\n",
              " 'awe',\n",
              " 'awesome',\n",
              " 'awful',\n",
              " 'awfully',\n",
              " 'awkward',\n",
              " 'awkwardly',\n",
              " 'awkwardness',\n",
              " 'babak',\n",
              " 'babbitt',\n",
              " 'back',\n",
              " 'backdrops',\n",
              " 'background',\n",
              " 'backgrounds',\n",
              " 'backmasking',\n",
              " 'backward',\n",
              " 'backwater',\n",
              " 'bad',\n",
              " 'badder',\n",
              " 'badly',\n",
              " 'baffling',\n",
              " 'bag',\n",
              " 'bagatelle',\n",
              " 'baggage',\n",
              " 'bai',\n",
              " 'baked',\n",
              " 'balance',\n",
              " 'balanced',\n",
              " 'balances',\n",
              " 'balk',\n",
              " 'ball',\n",
              " 'ballerinas',\n",
              " 'ballet',\n",
              " 'ballot',\n",
              " 'baloney',\n",
              " 'bam',\n",
              " 'banality',\n",
              " 'band',\n",
              " 'bands',\n",
              " 'banger',\n",
              " 'bank',\n",
              " 'banter',\n",
              " 'bar',\n",
              " 'baran',\n",
              " 'barbarian',\n",
              " 'barbarism',\n",
              " 'barbera',\n",
              " 'barbershop',\n",
              " 'barbs',\n",
              " 'bard',\n",
              " 'bare',\n",
              " 'barely',\n",
              " 'barking',\n",
              " 'barred',\n",
              " 'barrel',\n",
              " 'barreled',\n",
              " 'barry',\n",
              " 'bars',\n",
              " 'bart',\n",
              " 'bartlett',\n",
              " 'base',\n",
              " 'baseball',\n",
              " 'based',\n",
              " 'basest',\n",
              " 'bashing',\n",
              " 'basic',\n",
              " 'basically',\n",
              " 'bask',\n",
              " 'bathtub',\n",
              " 'batman',\n",
              " 'battle',\n",
              " 'be',\n",
              " 'beach',\n",
              " 'beacon',\n",
              " 'beard',\n",
              " 'bears',\n",
              " 'beast',\n",
              " 'beat',\n",
              " 'beaten',\n",
              " 'beating',\n",
              " 'beatings',\n",
              " 'beats',\n",
              " 'beautiful',\n",
              " 'beautifully',\n",
              " 'beauty',\n",
              " 'bebe',\n",
              " 'became',\n",
              " 'because',\n",
              " 'become',\n",
              " 'becomes',\n",
              " 'becoming',\n",
              " 'bedknobs',\n",
              " 'bedside',\n",
              " 'been',\n",
              " 'beer',\n",
              " 'bees',\n",
              " 'before',\n",
              " 'begging',\n",
              " 'begin',\n",
              " 'beginners',\n",
              " 'begins',\n",
              " 'begley',\n",
              " 'begun',\n",
              " 'behan',\n",
              " 'behaved',\n",
              " 'behavior',\n",
              " 'beheadings',\n",
              " 'behind',\n",
              " 'behold',\n",
              " 'being',\n",
              " 'beings',\n",
              " 'belgium',\n",
              " 'beliefs',\n",
              " 'believability',\n",
              " 'believable',\n",
              " 'believe',\n",
              " 'believer',\n",
              " 'belinsky',\n",
              " 'belly',\n",
              " 'belongs',\n",
              " 'below',\n",
              " 'ben',\n",
              " 'bending',\n",
              " 'beneath',\n",
              " 'benefit',\n",
              " 'benefited',\n",
              " 'benefits',\n",
              " 'benevolent',\n",
              " 'benigni',\n",
              " 'benjamins',\n",
              " 'bent',\n",
              " 'berg',\n",
              " 'bertrand',\n",
              " 'best',\n",
              " 'bet',\n",
              " 'betrayal',\n",
              " 'bettany',\n",
              " 'better',\n",
              " 'betting',\n",
              " 'betty',\n",
              " 'between',\n",
              " 'beware',\n",
              " 'bewildered',\n",
              " 'bewilderingly',\n",
              " 'beyond',\n",
              " 'bible',\n",
              " 'bickle',\n",
              " 'bidder',\n",
              " 'bielinsky',\n",
              " 'big',\n",
              " 'bigelow',\n",
              " 'bigger',\n",
              " 'bike',\n",
              " 'bikes',\n",
              " 'bile',\n",
              " 'bilingual',\n",
              " 'bilked',\n",
              " 'bill',\n",
              " 'billed',\n",
              " 'bind',\n",
              " 'binks',\n",
              " 'binoche',\n",
              " 'bio',\n",
              " 'birot',\n",
              " 'birthday',\n",
              " 'biscuit',\n",
              " 'bisset',\n",
              " 'bit',\n",
              " 'bite',\n",
              " 'biter',\n",
              " 'bites',\n",
              " 'biting',\n",
              " 'bits',\n",
              " 'bitten',\n",
              " 'bitter',\n",
              " 'bitterly',\n",
              " 'bittersweet',\n",
              " 'biz',\n",
              " 'bizarre',\n",
              " 'bjorkness',\n",
              " 'blab',\n",
              " 'black',\n",
              " 'blade',\n",
              " 'blair',\n",
              " 'blame',\n",
              " 'blanchett',\n",
              " 'bland',\n",
              " 'blank',\n",
              " 'blanks',\n",
              " 'blast',\n",
              " 'blaxploitation',\n",
              " 'blazingly',\n",
              " 'bleak',\n",
              " 'blend',\n",
              " 'blended',\n",
              " 'bless',\n",
              " 'blessed',\n",
              " 'blimey',\n",
              " 'blisteringly',\n",
              " 'blithe',\n",
              " 'block',\n",
              " 'blockage',\n",
              " 'blockbuster',\n",
              " 'blockbusters',\n",
              " 'blood',\n",
              " 'bloodbath',\n",
              " 'blooded',\n",
              " 'bloody',\n",
              " 'blow',\n",
              " 'blowing',\n",
              " 'blown',\n",
              " 'bludgeoning',\n",
              " 'blue',\n",
              " 'blueblood',\n",
              " 'bluescreen',\n",
              " 'blush',\n",
              " 'blushing',\n",
              " 'bmws',\n",
              " 'board',\n",
              " 'boarders',\n",
              " 'boasts',\n",
              " 'bodied',\n",
              " 'bodies',\n",
              " 'body',\n",
              " 'boffo',\n",
              " 'bogdanovich',\n",
              " 'bogged',\n",
              " 'bogus',\n",
              " 'boilerplate',\n",
              " 'boiling',\n",
              " 'boisterous',\n",
              " 'bolado',\n",
              " 'boldly',\n",
              " 'bolero',\n",
              " 'bollywood',\n",
              " 'bolster',\n",
              " 'bon',\n",
              " 'bond',\n",
              " 'bondish',\n",
              " 'bone',\n",
              " 'bons',\n",
              " 'bonus',\n",
              " 'boobs',\n",
              " 'book',\n",
              " 'books',\n",
              " 'boom',\n",
              " 'boorishness',\n",
              " 'boost',\n",
              " 'boot',\n",
              " 'boots',\n",
              " 'border',\n",
              " 'borders',\n",
              " 'bored',\n",
              " 'borg',\n",
              " 'boring',\n",
              " 'born',\n",
              " 'bornin',\n",
              " 'botched',\n",
              " 'both',\n",
              " 'bother',\n",
              " 'bothered',\n",
              " 'bots',\n",
              " 'bottom',\n",
              " 'bottomlessly',\n",
              " 'bouncy',\n",
              " 'bound',\n",
              " 'boundaries',\n",
              " 'bounds',\n",
              " 'bourgeois',\n",
              " 'bourne',\n",
              " 'bouts',\n",
              " 'bow',\n",
              " 'bowl',\n",
              " 'box',\n",
              " 'boy',\n",
              " 'boys',\n",
              " 'bracing',\n",
              " 'brain',\n",
              " 'brainer',\n",
              " 'brainless',\n",
              " 'branagh',\n",
              " 'brand',\n",
              " 'brash',\n",
              " 'brass',\n",
              " 'brave',\n",
              " 'bravery',\n",
              " 'brawny',\n",
              " 'breach',\n",
              " 'bread',\n",
              " 'breadth',\n",
              " 'break',\n",
              " 'breaking',\n",
              " 'breaks',\n",
              " 'breakthrough',\n",
              " 'breath',\n",
              " 'breathe',\n",
              " 'breathless',\n",
              " 'breathtaking',\n",
              " 'breathtakingly',\n",
              " 'brecht',\n",
              " 'breed',\n",
              " 'breezy',\n",
              " 'breillat',\n",
              " 'brian',\n",
              " 'bride',\n",
              " 'bridge',\n",
              " 'brief',\n",
              " 'bright',\n",
              " 'brightly',\n",
              " 'brilliance',\n",
              " 'brilliant',\n",
              " 'brilliantly',\n",
              " 'brimming',\n",
              " 'brims',\n",
              " 'bring',\n",
              " 'bringing',\n",
              " 'brings',\n",
              " 'brisk',\n",
              " 'brit',\n",
              " 'british',\n",
              " 'britney',\n",
              " 'brittle',\n",
              " 'broad',\n",
              " 'broadside',\n",
              " 'brody',\n",
              " 'broke',\n",
              " 'broken',\n",
              " 'bronze',\n",
              " 'brooks',\n",
              " 'broomfield',\n",
              " 'broomsticks',\n",
              " 'brosnan',\n",
              " 'brothers',\n",
              " 'brought',\n",
              " 'brow',\n",
              " 'brown',\n",
              " 'bruce',\n",
              " 'bruckheimer',\n",
              " 'bruised',\n",
              " 'brush',\n",
              " 'brushes',\n",
              " 'brussels',\n",
              " 'brutal',\n",
              " 'brutally',\n",
              " 'bubbles',\n",
              " 'buck',\n",
              " 'buckaroo',\n",
              " 'bucket',\n",
              " 'bucks',\n",
              " 'budding',\n",
              " 'buddy',\n",
              " 'budget',\n",
              " 'buffoons',\n",
              " 'buffs',\n",
              " 'bugsy',\n",
              " 'build',\n",
              " 'building',\n",
              " 'builds',\n",
              " 'built',\n",
              " 'bulk',\n",
              " 'bullet',\n",
              " 'bullfighters',\n",
              " 'bumbling',\n",
              " 'bump',\n",
              " 'bunch',\n",
              " 'bungle',\n",
              " 'bungling',\n",
              " 'buoyant',\n",
              " 'burden',\n",
              " 'burdened',\n",
              " 'burlesque',\n",
              " 'burn',\n",
              " 'burns',\n",
              " 'burr',\n",
              " 'bursting',\n",
              " 'business',\n",
              " 'busting',\n",
              " 'bustling',\n",
              " 'but',\n",
              " 'butterflies',\n",
              " 'button',\n",
              " 'buttons',\n",
              " 'buy',\n",
              " 'buzz',\n",
              " 'by',\n",
              " 'bygone',\n",
              " 'bypass',\n",
              " 'ca',\n",
              " 'cabins',\n",
              " 'cable',\n",
              " 'caddyshack',\n",
              " 'caffeinated',\n",
              " 'cagney',\n",
              " 'caine',\n",
              " 'cake',\n",
              " 'cal',\n",
              " 'calamity',\n",
              " 'calculated',\n",
              " 'calibrated',\n",
              " 'call',\n",
              " 'called',\n",
              " 'calm',\n",
              " 'calories',\n",
              " 'calvin',\n",
              " 'came',\n",
              " 'cameo',\n",
              " 'cameos',\n",
              " 'camera',\n",
              " 'camouflage',\n",
              " 'camp',\n",
              " 'campaign',\n",
              " 'campanella',\n",
              " 'campfire',\n",
              " 'can',\n",
              " 'canada',\n",
              " 'candles',\n",
              " 'candy',\n",
              " 'cannes',\n",
              " 'cannibal',\n",
              " 'cannier',\n",
              " 'canny',\n",
              " 'canvas',\n",
              " 'capability',\n",
              " 'capable',\n",
              " 'cape',\n",
              " 'caper',\n",
              " 'capped',\n",
              " 'captivated',\n",
              " 'captivates',\n",
              " 'captivating',\n",
              " 'capture',\n",
              " 'captured',\n",
              " 'captures',\n",
              " 'capturing',\n",
              " 'car',\n",
              " 'card',\n",
              " 'care',\n",
              " 'career',\n",
              " 'careful',\n",
              " 'carefully',\n",
              " 'cares',\n",
              " 'carey',\n",
              " 'caricatures',\n",
              " 'carlin',\n",
              " 'carmichael',\n",
              " 'carol',\n",
              " 'carpenter',\n",
              " 'carried',\n",
              " 'carries',\n",
              " 'carry',\n",
              " 'carrying',\n",
              " 'cars',\n",
              " 'carter',\n",
              " 'cartoon',\n",
              " 'cartoons',\n",
              " 'carved',\n",
              " 'carvey',\n",
              " 'cary',\n",
              " 'case',\n",
              " 'cash',\n",
              " 'cashing',\n",
              " 'cast',\n",
              " 'casting',\n",
              " 'casts',\n",
              " 'casual',\n",
              " 'casualties',\n",
              " 'cat',\n",
              " 'catch',\n",
              " 'catches',\n",
              " 'catching',\n",
              " 'category',\n",
              " 'caterer',\n",
              " 'catharsis',\n",
              " 'cathartic',\n",
              " 'catherine',\n",
              " 'catholic',\n",
              " 'cattaneo',\n",
              " 'caught',\n",
              " 'cause',\n",
              " 'cautionary',\n",
              " 'cavorting',\n",
              " 'celebrated',\n",
              " 'celebrates',\n",
              " 'celebration',\n",
              " 'celebrities',\n",
              " 'cell',\n",
              " 'celluloid',\n",
              " 'center',\n",
              " 'centers',\n",
              " 'central',\n",
              " 'century',\n",
              " 'ceo',\n",
              " 'cerebral',\n",
              " 'ceremonies',\n",
              " 'certain',\n",
              " 'certainly',\n",
              " 'chabrol',\n",
              " 'chabrolian',\n",
              " 'chain',\n",
              " 'chair',\n",
              " 'chalk',\n",
              " 'challenges',\n",
              " 'challenging',\n",
              " 'champion',\n",
              " 'chan',\n",
              " 'chance',\n",
              " 'change',\n",
              " 'changes',\n",
              " 'changing',\n",
              " 'channel',\n",
              " 'chaos',\n",
              " 'chaotic',\n",
              " 'chaplin',\n",
              " 'chapter',\n",
              " 'character',\n",
              " 'characteristic',\n",
              " 'characteristically',\n",
              " 'characterization',\n",
              " 'characterizations',\n",
              " 'characters',\n",
              " 'charged',\n",
              " 'charisma',\n",
              " 'charismatic',\n",
              " 'charles',\n",
              " 'charlie',\n",
              " 'charlotte',\n",
              " ...]"
            ]
          },
          "metadata": {
            "tags": []
          },
          "execution_count": 15
        }
      ]
    },
    {
      "cell_type": "code",
      "metadata": {
        "id": "NuV96CyeEbYb",
        "colab_type": "code",
        "colab": {
          "base_uri": "https://localhost:8080/",
          "height": 134
        },
        "outputId": "f0e640f7-6a5c-45df-9107-256f39aea670"
      },
      "source": [
        "c_train_v=c_vectorizer.transform(x_train)\n",
        "\n",
        "c_train_v.toarray()"
      ],
      "execution_count": 16,
      "outputs": [
        {
          "output_type": "execute_result",
          "data": {
            "text/plain": [
              "array([[0, 0, 0, ..., 0, 0, 0],\n",
              "       [0, 0, 0, ..., 0, 0, 0],\n",
              "       [0, 0, 0, ..., 0, 0, 0],\n",
              "       ...,\n",
              "       [0, 0, 0, ..., 0, 0, 0],\n",
              "       [0, 0, 0, ..., 0, 0, 0],\n",
              "       [0, 0, 0, ..., 0, 0, 0]])"
            ]
          },
          "metadata": {
            "tags": []
          },
          "execution_count": 16
        }
      ]
    },
    {
      "cell_type": "code",
      "metadata": {
        "id": "kbS2A3q5EbYh",
        "colab_type": "code",
        "colab": {
          "base_uri": "https://localhost:8080/",
          "height": 134
        },
        "outputId": "499364ef-275f-4420-f418-26a8132a18ce"
      },
      "source": [
        "\n",
        "c_test_v=c_vectorizer.transform(x_test)\n",
        "c_test_v.toarray()"
      ],
      "execution_count": 17,
      "outputs": [
        {
          "output_type": "execute_result",
          "data": {
            "text/plain": [
              "array([[0, 0, 0, ..., 0, 0, 0],\n",
              "       [0, 0, 0, ..., 0, 0, 0],\n",
              "       [0, 0, 0, ..., 0, 0, 0],\n",
              "       ...,\n",
              "       [0, 0, 0, ..., 0, 0, 0],\n",
              "       [0, 0, 0, ..., 0, 0, 0],\n",
              "       [0, 0, 0, ..., 0, 0, 0]])"
            ]
          },
          "metadata": {
            "tags": []
          },
          "execution_count": 17
        }
      ]
    },
    {
      "cell_type": "markdown",
      "metadata": {
        "id": "HfLDbl05EbYm",
        "colab_type": "text"
      },
      "source": [
        "### TfidfVectorizer"
      ]
    },
    {
      "cell_type": "code",
      "metadata": {
        "id": "X9i0CmtxEbYn",
        "colab_type": "code",
        "colab": {}
      },
      "source": [
        "from sklearn.feature_extraction.text import TfidfVectorizer"
      ],
      "execution_count": 0,
      "outputs": []
    },
    {
      "cell_type": "code",
      "metadata": {
        "id": "hN6U3eK6EbYv",
        "colab_type": "code",
        "colab": {
          "base_uri": "https://localhost:8080/",
          "height": 1000
        },
        "outputId": "7530fe86-e30c-40bb-8c48-bb1141c16565"
      },
      "source": [
        "t_vectorizer=TfidfVectorizer()\n",
        "t_vectorizer.fit(x_train) \n",
        "t_vectorizer.get_feature_names()"
      ],
      "execution_count": 19,
      "outputs": [
        {
          "output_type": "execute_result",
          "data": {
            "text/plain": [
              "['10',\n",
              " '100',\n",
              " '10th',\n",
              " '12',\n",
              " '120',\n",
              " '129',\n",
              " '13',\n",
              " '15',\n",
              " '168',\n",
              " '1790',\n",
              " '1899',\n",
              " '19',\n",
              " '1915',\n",
              " '1920',\n",
              " '1940s',\n",
              " '1950s',\n",
              " '1953',\n",
              " '1957',\n",
              " '1970s',\n",
              " '1971',\n",
              " '1975',\n",
              " '1980s',\n",
              " '1984',\n",
              " '1989',\n",
              " '1990',\n",
              " '19th',\n",
              " '20',\n",
              " '2000',\n",
              " '2002',\n",
              " '20th',\n",
              " '21st',\n",
              " '25',\n",
              " '26',\n",
              " '270',\n",
              " '30',\n",
              " '300',\n",
              " '3000',\n",
              " '3d',\n",
              " '48',\n",
              " '4ever',\n",
              " '50',\n",
              " '50s',\n",
              " '60',\n",
              " '60s',\n",
              " '70s',\n",
              " '71',\n",
              " '78',\n",
              " '80',\n",
              " '84',\n",
              " '86',\n",
              " '88',\n",
              " '90',\n",
              " '95',\n",
              " 'abandon',\n",
              " 'abandoned',\n",
              " 'abel',\n",
              " 'abhorrent',\n",
              " 'ability',\n",
              " 'able',\n",
              " 'aborted',\n",
              " 'abound',\n",
              " 'about',\n",
              " 'above',\n",
              " 'abridged',\n",
              " 'absolute',\n",
              " 'absolutely',\n",
              " 'absorb',\n",
              " 'absorbed',\n",
              " 'absorbing',\n",
              " 'absorption',\n",
              " 'abstract',\n",
              " 'absurdist',\n",
              " 'absurdly',\n",
              " 'abundant',\n",
              " 'abuse',\n",
              " 'abyss',\n",
              " 'academic',\n",
              " 'academy',\n",
              " 'accent',\n",
              " 'accents',\n",
              " 'accept',\n",
              " 'acceptable',\n",
              " 'accepting',\n",
              " 'accepts',\n",
              " 'access',\n",
              " 'accessibility',\n",
              " 'accessible',\n",
              " 'accident',\n",
              " 'accompanies',\n",
              " 'accomplish',\n",
              " 'accomplished',\n",
              " 'accomplishes',\n",
              " 'accomplishments',\n",
              " 'account',\n",
              " 'accountant',\n",
              " 'accumulated',\n",
              " 'accurate',\n",
              " 'accurately',\n",
              " 'ache',\n",
              " 'achero',\n",
              " 'achieve',\n",
              " 'achieved',\n",
              " 'achievement',\n",
              " 'achievements',\n",
              " 'achieves',\n",
              " 'achieving',\n",
              " 'acid',\n",
              " 'ackerman',\n",
              " 'acknowledges',\n",
              " 'acquire',\n",
              " 'across',\n",
              " 'act',\n",
              " 'acted',\n",
              " 'acting',\n",
              " 'action',\n",
              " 'actioners',\n",
              " 'actions',\n",
              " 'activities',\n",
              " 'actor',\n",
              " 'actors',\n",
              " 'actress',\n",
              " 'actresses',\n",
              " 'acts',\n",
              " 'actual',\n",
              " 'actually',\n",
              " 'acumen',\n",
              " 'acute',\n",
              " 'adage',\n",
              " 'adam',\n",
              " 'adamant',\n",
              " 'adaptation',\n",
              " 'adaptations',\n",
              " 'adapts',\n",
              " 'add',\n",
              " 'added',\n",
              " 'addict',\n",
              " 'adding',\n",
              " 'addition',\n",
              " 'address',\n",
              " 'adds',\n",
              " 'adequate',\n",
              " 'adequately',\n",
              " 'adjusting',\n",
              " 'admirable',\n",
              " 'admirably',\n",
              " 'admiration',\n",
              " 'admire',\n",
              " 'admirers',\n",
              " 'admiring',\n",
              " 'admission',\n",
              " 'admit',\n",
              " 'admittedly',\n",
              " 'admitting',\n",
              " 'adolescence',\n",
              " 'adolescent',\n",
              " 'adorability',\n",
              " 'adorable',\n",
              " 'adored',\n",
              " 'adorns',\n",
              " 'adrenaline',\n",
              " 'adrenalized',\n",
              " 'adrien',\n",
              " 'adult',\n",
              " 'adults',\n",
              " 'advantage',\n",
              " 'adventure',\n",
              " 'adventurous',\n",
              " 'advert',\n",
              " 'advice',\n",
              " 'aesop',\n",
              " 'aesthetics',\n",
              " 'affable',\n",
              " 'affair',\n",
              " 'affected',\n",
              " 'affecting',\n",
              " 'affection',\n",
              " 'affectionate',\n",
              " 'affections',\n",
              " 'affects',\n",
              " 'affirmational',\n",
              " 'affirming',\n",
              " 'affirms',\n",
              " 'affleck',\n",
              " 'aficionados',\n",
              " 'afloat',\n",
              " 'african',\n",
              " 'after',\n",
              " 'afterlife',\n",
              " 'again',\n",
              " 'against',\n",
              " 'age',\n",
              " 'aged',\n",
              " 'agendas',\n",
              " 'agent',\n",
              " 'agers',\n",
              " 'ages',\n",
              " 'aggressive',\n",
              " 'aggressively',\n",
              " 'aging',\n",
              " 'ago',\n",
              " 'agreeably',\n",
              " 'agreed',\n",
              " 'ah',\n",
              " 'ahead',\n",
              " 'ahem',\n",
              " 'ai',\n",
              " 'aid',\n",
              " 'aim',\n",
              " 'aimed',\n",
              " 'aimlessness',\n",
              " 'aims',\n",
              " 'air',\n",
              " 'airhead',\n",
              " 'airless',\n",
              " 'airy',\n",
              " 'akin',\n",
              " 'alabama',\n",
              " 'alacrity',\n",
              " 'albeit',\n",
              " 'alert',\n",
              " 'alexander',\n",
              " 'alfred',\n",
              " 'alias',\n",
              " 'alice',\n",
              " 'alienation',\n",
              " 'alike',\n",
              " 'alive',\n",
              " 'all',\n",
              " 'allegedly',\n",
              " 'allegory',\n",
              " 'allen',\n",
              " 'allow',\n",
              " 'allowing',\n",
              " 'allows',\n",
              " 'alluring',\n",
              " 'allusions',\n",
              " 'ally',\n",
              " 'almost',\n",
              " 'alone',\n",
              " 'along',\n",
              " 'alongside',\n",
              " 'aloof',\n",
              " 'already',\n",
              " 'also',\n",
              " 'alt',\n",
              " 'altar',\n",
              " 'alterations',\n",
              " 'altering',\n",
              " 'alternate',\n",
              " 'alternately',\n",
              " 'alternative',\n",
              " 'although',\n",
              " 'altogether',\n",
              " 'always',\n",
              " 'am',\n",
              " 'amaro',\n",
              " 'amassed',\n",
              " 'amateurish',\n",
              " 'amateurishly',\n",
              " 'amaze',\n",
              " 'amazing',\n",
              " 'amazingly',\n",
              " 'ambiguities',\n",
              " 'ambition',\n",
              " 'ambitious',\n",
              " 'ambivalent',\n",
              " 'america',\n",
              " 'american',\n",
              " 'americans',\n",
              " 'amiable',\n",
              " 'amid',\n",
              " 'amir',\n",
              " 'among',\n",
              " 'amos',\n",
              " 'amount',\n",
              " 'amounts',\n",
              " 'amours',\n",
              " 'amused',\n",
              " 'amusedly',\n",
              " 'amuses',\n",
              " 'amusing',\n",
              " 'amy',\n",
              " 'an',\n",
              " 'ana',\n",
              " 'anachronistic',\n",
              " 'anakin',\n",
              " 'analytical',\n",
              " 'analyze',\n",
              " 'anarchist',\n",
              " 'anchored',\n",
              " 'anchoring',\n",
              " 'anchors',\n",
              " 'and',\n",
              " 'anderson',\n",
              " 'andrei',\n",
              " 'angel',\n",
              " 'angle',\n",
              " 'angles',\n",
              " 'angst',\n",
              " 'anguish',\n",
              " 'anguished',\n",
              " 'animal',\n",
              " 'animals',\n",
              " 'animated',\n",
              " 'animation',\n",
              " 'animations',\n",
              " 'anne',\n",
              " 'annoying',\n",
              " 'anomie',\n",
              " 'anonymity',\n",
              " 'anonymous',\n",
              " 'another',\n",
              " 'answered',\n",
              " 'answering',\n",
              " 'answers',\n",
              " 'ante',\n",
              " 'anteing',\n",
              " 'anthony',\n",
              " 'anthropomorphic',\n",
              " 'anti',\n",
              " 'antic',\n",
              " 'anticipated',\n",
              " 'antics',\n",
              " 'antidote',\n",
              " 'antonia',\n",
              " 'antwone',\n",
              " 'any',\n",
              " 'anybody',\n",
              " 'anyone',\n",
              " 'anyplace',\n",
              " 'anything',\n",
              " 'anywhere',\n",
              " 'apart',\n",
              " 'apes',\n",
              " 'apex',\n",
              " 'appalling',\n",
              " 'apparent',\n",
              " 'appeal',\n",
              " 'appealing',\n",
              " 'appealingly',\n",
              " 'appear',\n",
              " 'appearance',\n",
              " 'appears',\n",
              " 'appetites',\n",
              " 'appetizer',\n",
              " 'appetizing',\n",
              " 'apple',\n",
              " 'apply',\n",
              " 'appointed',\n",
              " 'appreciate',\n",
              " 'appreciates',\n",
              " 'appreciation',\n",
              " 'appreciative',\n",
              " 'approach',\n",
              " 'approaches',\n",
              " 'appropriate',\n",
              " 'apted',\n",
              " 'arbitrarily',\n",
              " 'arc',\n",
              " 'arcane',\n",
              " 'arch',\n",
              " 'archetypal',\n",
              " 'architecture',\n",
              " 'ardor',\n",
              " 'arduous',\n",
              " 'are',\n",
              " 'area',\n",
              " 'argento',\n",
              " 'arguably',\n",
              " 'argue',\n",
              " 'arliss',\n",
              " 'armenians',\n",
              " 'arnie',\n",
              " 'arnold',\n",
              " 'around',\n",
              " 'arrive',\n",
              " 'arrives',\n",
              " 'arriving',\n",
              " 'art',\n",
              " 'arteta',\n",
              " 'artful',\n",
              " 'artfully',\n",
              " 'arthur',\n",
              " 'articulate',\n",
              " 'artifice',\n",
              " 'artificial',\n",
              " 'artificiality',\n",
              " 'artist',\n",
              " 'artistic',\n",
              " 'artistically',\n",
              " 'artists',\n",
              " 'arts',\n",
              " 'artsploitation',\n",
              " 'artsy',\n",
              " 'artworks',\n",
              " 'arty',\n",
              " 'as',\n",
              " 'ashamed',\n",
              " 'asian',\n",
              " 'asiaphiles',\n",
              " 'ask',\n",
              " 'asking',\n",
              " 'asks',\n",
              " 'asleep',\n",
              " 'asparagus',\n",
              " 'aspect',\n",
              " 'aspects',\n",
              " 'asphalt',\n",
              " 'aspirations',\n",
              " 'aspired',\n",
              " 'assassin',\n",
              " 'assault',\n",
              " 'assayas',\n",
              " 'assembled',\n",
              " 'assembly',\n",
              " 'asset',\n",
              " 'assimilated',\n",
              " 'associated',\n",
              " 'assumes',\n",
              " 'assured',\n",
              " 'astonish',\n",
              " 'astonishing',\n",
              " 'astonishingly',\n",
              " 'astounding',\n",
              " 'astoundingly',\n",
              " 'astringent',\n",
              " 'astronaut',\n",
              " 'astronauts',\n",
              " 'at',\n",
              " 'atmosphere',\n",
              " 'atmospheric',\n",
              " 'atmospherics',\n",
              " 'atrocious',\n",
              " 'attached',\n",
              " 'attal',\n",
              " 'attempt',\n",
              " 'attempts',\n",
              " 'attendant',\n",
              " 'attention',\n",
              " 'attitude',\n",
              " 'attract',\n",
              " 'attraction',\n",
              " 'attractive',\n",
              " 'attracts',\n",
              " 'attuned',\n",
              " 'audacious',\n",
              " 'audiard',\n",
              " 'audience',\n",
              " 'audiences',\n",
              " 'austerity',\n",
              " 'austin',\n",
              " 'australian',\n",
              " 'auteuil',\n",
              " 'auteur',\n",
              " 'authentic',\n",
              " 'authentically',\n",
              " 'authenticity',\n",
              " 'autobiographical',\n",
              " 'autocritique',\n",
              " 'automatically',\n",
              " 'avant',\n",
              " 'avengers',\n",
              " 'average',\n",
              " 'averse',\n",
              " 'aversion',\n",
              " 'averting',\n",
              " 'avoid',\n",
              " 'avoids',\n",
              " 'awake',\n",
              " 'award',\n",
              " 'awarded',\n",
              " 'awards',\n",
              " 'aware',\n",
              " 'awareness',\n",
              " 'away',\n",
              " 'awe',\n",
              " 'awesome',\n",
              " 'awful',\n",
              " 'awfully',\n",
              " 'awkward',\n",
              " 'awkwardly',\n",
              " 'awkwardness',\n",
              " 'babak',\n",
              " 'babbitt',\n",
              " 'back',\n",
              " 'backdrops',\n",
              " 'background',\n",
              " 'backgrounds',\n",
              " 'backmasking',\n",
              " 'backward',\n",
              " 'backwater',\n",
              " 'bad',\n",
              " 'badder',\n",
              " 'badly',\n",
              " 'baffling',\n",
              " 'bag',\n",
              " 'bagatelle',\n",
              " 'baggage',\n",
              " 'bai',\n",
              " 'baked',\n",
              " 'balance',\n",
              " 'balanced',\n",
              " 'balances',\n",
              " 'balk',\n",
              " 'ball',\n",
              " 'ballerinas',\n",
              " 'ballet',\n",
              " 'ballot',\n",
              " 'baloney',\n",
              " 'bam',\n",
              " 'banality',\n",
              " 'band',\n",
              " 'bands',\n",
              " 'banger',\n",
              " 'bank',\n",
              " 'banter',\n",
              " 'bar',\n",
              " 'baran',\n",
              " 'barbarian',\n",
              " 'barbarism',\n",
              " 'barbera',\n",
              " 'barbershop',\n",
              " 'barbs',\n",
              " 'bard',\n",
              " 'bare',\n",
              " 'barely',\n",
              " 'barking',\n",
              " 'barred',\n",
              " 'barrel',\n",
              " 'barreled',\n",
              " 'barry',\n",
              " 'bars',\n",
              " 'bart',\n",
              " 'bartlett',\n",
              " 'base',\n",
              " 'baseball',\n",
              " 'based',\n",
              " 'basest',\n",
              " 'bashing',\n",
              " 'basic',\n",
              " 'basically',\n",
              " 'bask',\n",
              " 'bathtub',\n",
              " 'batman',\n",
              " 'battle',\n",
              " 'be',\n",
              " 'beach',\n",
              " 'beacon',\n",
              " 'beard',\n",
              " 'bears',\n",
              " 'beast',\n",
              " 'beat',\n",
              " 'beaten',\n",
              " 'beating',\n",
              " 'beatings',\n",
              " 'beats',\n",
              " 'beautiful',\n",
              " 'beautifully',\n",
              " 'beauty',\n",
              " 'bebe',\n",
              " 'became',\n",
              " 'because',\n",
              " 'become',\n",
              " 'becomes',\n",
              " 'becoming',\n",
              " 'bedknobs',\n",
              " 'bedside',\n",
              " 'been',\n",
              " 'beer',\n",
              " 'bees',\n",
              " 'before',\n",
              " 'begging',\n",
              " 'begin',\n",
              " 'beginners',\n",
              " 'begins',\n",
              " 'begley',\n",
              " 'begun',\n",
              " 'behan',\n",
              " 'behaved',\n",
              " 'behavior',\n",
              " 'beheadings',\n",
              " 'behind',\n",
              " 'behold',\n",
              " 'being',\n",
              " 'beings',\n",
              " 'belgium',\n",
              " 'beliefs',\n",
              " 'believability',\n",
              " 'believable',\n",
              " 'believe',\n",
              " 'believer',\n",
              " 'belinsky',\n",
              " 'belly',\n",
              " 'belongs',\n",
              " 'below',\n",
              " 'ben',\n",
              " 'bending',\n",
              " 'beneath',\n",
              " 'benefit',\n",
              " 'benefited',\n",
              " 'benefits',\n",
              " 'benevolent',\n",
              " 'benigni',\n",
              " 'benjamins',\n",
              " 'bent',\n",
              " 'berg',\n",
              " 'bertrand',\n",
              " 'best',\n",
              " 'bet',\n",
              " 'betrayal',\n",
              " 'bettany',\n",
              " 'better',\n",
              " 'betting',\n",
              " 'betty',\n",
              " 'between',\n",
              " 'beware',\n",
              " 'bewildered',\n",
              " 'bewilderingly',\n",
              " 'beyond',\n",
              " 'bible',\n",
              " 'bickle',\n",
              " 'bidder',\n",
              " 'bielinsky',\n",
              " 'big',\n",
              " 'bigelow',\n",
              " 'bigger',\n",
              " 'bike',\n",
              " 'bikes',\n",
              " 'bile',\n",
              " 'bilingual',\n",
              " 'bilked',\n",
              " 'bill',\n",
              " 'billed',\n",
              " 'bind',\n",
              " 'binks',\n",
              " 'binoche',\n",
              " 'bio',\n",
              " 'birot',\n",
              " 'birthday',\n",
              " 'biscuit',\n",
              " 'bisset',\n",
              " 'bit',\n",
              " 'bite',\n",
              " 'biter',\n",
              " 'bites',\n",
              " 'biting',\n",
              " 'bits',\n",
              " 'bitten',\n",
              " 'bitter',\n",
              " 'bitterly',\n",
              " 'bittersweet',\n",
              " 'biz',\n",
              " 'bizarre',\n",
              " 'bjorkness',\n",
              " 'blab',\n",
              " 'black',\n",
              " 'blade',\n",
              " 'blair',\n",
              " 'blame',\n",
              " 'blanchett',\n",
              " 'bland',\n",
              " 'blank',\n",
              " 'blanks',\n",
              " 'blast',\n",
              " 'blaxploitation',\n",
              " 'blazingly',\n",
              " 'bleak',\n",
              " 'blend',\n",
              " 'blended',\n",
              " 'bless',\n",
              " 'blessed',\n",
              " 'blimey',\n",
              " 'blisteringly',\n",
              " 'blithe',\n",
              " 'block',\n",
              " 'blockage',\n",
              " 'blockbuster',\n",
              " 'blockbusters',\n",
              " 'blood',\n",
              " 'bloodbath',\n",
              " 'blooded',\n",
              " 'bloody',\n",
              " 'blow',\n",
              " 'blowing',\n",
              " 'blown',\n",
              " 'bludgeoning',\n",
              " 'blue',\n",
              " 'blueblood',\n",
              " 'bluescreen',\n",
              " 'blush',\n",
              " 'blushing',\n",
              " 'bmws',\n",
              " 'board',\n",
              " 'boarders',\n",
              " 'boasts',\n",
              " 'bodied',\n",
              " 'bodies',\n",
              " 'body',\n",
              " 'boffo',\n",
              " 'bogdanovich',\n",
              " 'bogged',\n",
              " 'bogus',\n",
              " 'boilerplate',\n",
              " 'boiling',\n",
              " 'boisterous',\n",
              " 'bolado',\n",
              " 'boldly',\n",
              " 'bolero',\n",
              " 'bollywood',\n",
              " 'bolster',\n",
              " 'bon',\n",
              " 'bond',\n",
              " 'bondish',\n",
              " 'bone',\n",
              " 'bons',\n",
              " 'bonus',\n",
              " 'boobs',\n",
              " 'book',\n",
              " 'books',\n",
              " 'boom',\n",
              " 'boorishness',\n",
              " 'boost',\n",
              " 'boot',\n",
              " 'boots',\n",
              " 'border',\n",
              " 'borders',\n",
              " 'bored',\n",
              " 'borg',\n",
              " 'boring',\n",
              " 'born',\n",
              " 'bornin',\n",
              " 'botched',\n",
              " 'both',\n",
              " 'bother',\n",
              " 'bothered',\n",
              " 'bots',\n",
              " 'bottom',\n",
              " 'bottomlessly',\n",
              " 'bouncy',\n",
              " 'bound',\n",
              " 'boundaries',\n",
              " 'bounds',\n",
              " 'bourgeois',\n",
              " 'bourne',\n",
              " 'bouts',\n",
              " 'bow',\n",
              " 'bowl',\n",
              " 'box',\n",
              " 'boy',\n",
              " 'boys',\n",
              " 'bracing',\n",
              " 'brain',\n",
              " 'brainer',\n",
              " 'brainless',\n",
              " 'branagh',\n",
              " 'brand',\n",
              " 'brash',\n",
              " 'brass',\n",
              " 'brave',\n",
              " 'bravery',\n",
              " 'brawny',\n",
              " 'breach',\n",
              " 'bread',\n",
              " 'breadth',\n",
              " 'break',\n",
              " 'breaking',\n",
              " 'breaks',\n",
              " 'breakthrough',\n",
              " 'breath',\n",
              " 'breathe',\n",
              " 'breathless',\n",
              " 'breathtaking',\n",
              " 'breathtakingly',\n",
              " 'brecht',\n",
              " 'breed',\n",
              " 'breezy',\n",
              " 'breillat',\n",
              " 'brian',\n",
              " 'bride',\n",
              " 'bridge',\n",
              " 'brief',\n",
              " 'bright',\n",
              " 'brightly',\n",
              " 'brilliance',\n",
              " 'brilliant',\n",
              " 'brilliantly',\n",
              " 'brimming',\n",
              " 'brims',\n",
              " 'bring',\n",
              " 'bringing',\n",
              " 'brings',\n",
              " 'brisk',\n",
              " 'brit',\n",
              " 'british',\n",
              " 'britney',\n",
              " 'brittle',\n",
              " 'broad',\n",
              " 'broadside',\n",
              " 'brody',\n",
              " 'broke',\n",
              " 'broken',\n",
              " 'bronze',\n",
              " 'brooks',\n",
              " 'broomfield',\n",
              " 'broomsticks',\n",
              " 'brosnan',\n",
              " 'brothers',\n",
              " 'brought',\n",
              " 'brow',\n",
              " 'brown',\n",
              " 'bruce',\n",
              " 'bruckheimer',\n",
              " 'bruised',\n",
              " 'brush',\n",
              " 'brushes',\n",
              " 'brussels',\n",
              " 'brutal',\n",
              " 'brutally',\n",
              " 'bubbles',\n",
              " 'buck',\n",
              " 'buckaroo',\n",
              " 'bucket',\n",
              " 'bucks',\n",
              " 'budding',\n",
              " 'buddy',\n",
              " 'budget',\n",
              " 'buffoons',\n",
              " 'buffs',\n",
              " 'bugsy',\n",
              " 'build',\n",
              " 'building',\n",
              " 'builds',\n",
              " 'built',\n",
              " 'bulk',\n",
              " 'bullet',\n",
              " 'bullfighters',\n",
              " 'bumbling',\n",
              " 'bump',\n",
              " 'bunch',\n",
              " 'bungle',\n",
              " 'bungling',\n",
              " 'buoyant',\n",
              " 'burden',\n",
              " 'burdened',\n",
              " 'burlesque',\n",
              " 'burn',\n",
              " 'burns',\n",
              " 'burr',\n",
              " 'bursting',\n",
              " 'business',\n",
              " 'busting',\n",
              " 'bustling',\n",
              " 'but',\n",
              " 'butterflies',\n",
              " 'button',\n",
              " 'buttons',\n",
              " 'buy',\n",
              " 'buzz',\n",
              " 'by',\n",
              " 'bygone',\n",
              " 'bypass',\n",
              " 'ca',\n",
              " 'cabins',\n",
              " 'cable',\n",
              " 'caddyshack',\n",
              " 'caffeinated',\n",
              " 'cagney',\n",
              " 'caine',\n",
              " 'cake',\n",
              " 'cal',\n",
              " 'calamity',\n",
              " 'calculated',\n",
              " 'calibrated',\n",
              " 'call',\n",
              " 'called',\n",
              " 'calm',\n",
              " 'calories',\n",
              " 'calvin',\n",
              " 'came',\n",
              " 'cameo',\n",
              " 'cameos',\n",
              " 'camera',\n",
              " 'camouflage',\n",
              " 'camp',\n",
              " 'campaign',\n",
              " 'campanella',\n",
              " 'campfire',\n",
              " 'can',\n",
              " 'canada',\n",
              " 'candles',\n",
              " 'candy',\n",
              " 'cannes',\n",
              " 'cannibal',\n",
              " 'cannier',\n",
              " 'canny',\n",
              " 'canvas',\n",
              " 'capability',\n",
              " 'capable',\n",
              " 'cape',\n",
              " 'caper',\n",
              " 'capped',\n",
              " 'captivated',\n",
              " 'captivates',\n",
              " 'captivating',\n",
              " 'capture',\n",
              " 'captured',\n",
              " 'captures',\n",
              " 'capturing',\n",
              " 'car',\n",
              " 'card',\n",
              " 'care',\n",
              " 'career',\n",
              " 'careful',\n",
              " 'carefully',\n",
              " 'cares',\n",
              " 'carey',\n",
              " 'caricatures',\n",
              " 'carlin',\n",
              " 'carmichael',\n",
              " 'carol',\n",
              " 'carpenter',\n",
              " 'carried',\n",
              " 'carries',\n",
              " 'carry',\n",
              " 'carrying',\n",
              " 'cars',\n",
              " 'carter',\n",
              " 'cartoon',\n",
              " 'cartoons',\n",
              " 'carved',\n",
              " 'carvey',\n",
              " 'cary',\n",
              " 'case',\n",
              " 'cash',\n",
              " 'cashing',\n",
              " 'cast',\n",
              " 'casting',\n",
              " 'casts',\n",
              " 'casual',\n",
              " 'casualties',\n",
              " 'cat',\n",
              " 'catch',\n",
              " 'catches',\n",
              " 'catching',\n",
              " 'category',\n",
              " 'caterer',\n",
              " 'catharsis',\n",
              " 'cathartic',\n",
              " 'catherine',\n",
              " 'catholic',\n",
              " 'cattaneo',\n",
              " 'caught',\n",
              " 'cause',\n",
              " 'cautionary',\n",
              " 'cavorting',\n",
              " 'celebrated',\n",
              " 'celebrates',\n",
              " 'celebration',\n",
              " 'celebrities',\n",
              " 'cell',\n",
              " 'celluloid',\n",
              " 'center',\n",
              " 'centers',\n",
              " 'central',\n",
              " 'century',\n",
              " 'ceo',\n",
              " 'cerebral',\n",
              " 'ceremonies',\n",
              " 'certain',\n",
              " 'certainly',\n",
              " 'chabrol',\n",
              " 'chabrolian',\n",
              " 'chain',\n",
              " 'chair',\n",
              " 'chalk',\n",
              " 'challenges',\n",
              " 'challenging',\n",
              " 'champion',\n",
              " 'chan',\n",
              " 'chance',\n",
              " 'change',\n",
              " 'changes',\n",
              " 'changing',\n",
              " 'channel',\n",
              " 'chaos',\n",
              " 'chaotic',\n",
              " 'chaplin',\n",
              " 'chapter',\n",
              " 'character',\n",
              " 'characteristic',\n",
              " 'characteristically',\n",
              " 'characterization',\n",
              " 'characterizations',\n",
              " 'characters',\n",
              " 'charged',\n",
              " 'charisma',\n",
              " 'charismatic',\n",
              " 'charles',\n",
              " 'charlie',\n",
              " 'charlotte',\n",
              " ...]"
            ]
          },
          "metadata": {
            "tags": []
          },
          "execution_count": 19
        }
      ]
    },
    {
      "cell_type": "code",
      "metadata": {
        "id": "yutRQbBtEbY1",
        "colab_type": "code",
        "colab": {
          "base_uri": "https://localhost:8080/",
          "height": 134
        },
        "outputId": "e1002fb5-b1bd-4db0-9495-489fc5e7b3b1"
      },
      "source": [
        "\n",
        "t_train_v=t_vectorizer.transform(x_train)\n",
        "t_train_v.toarray()"
      ],
      "execution_count": 20,
      "outputs": [
        {
          "output_type": "execute_result",
          "data": {
            "text/plain": [
              "array([[0., 0., 0., ..., 0., 0., 0.],\n",
              "       [0., 0., 0., ..., 0., 0., 0.],\n",
              "       [0., 0., 0., ..., 0., 0., 0.],\n",
              "       ...,\n",
              "       [0., 0., 0., ..., 0., 0., 0.],\n",
              "       [0., 0., 0., ..., 0., 0., 0.],\n",
              "       [0., 0., 0., ..., 0., 0., 0.]])"
            ]
          },
          "metadata": {
            "tags": []
          },
          "execution_count": 20
        }
      ]
    },
    {
      "cell_type": "code",
      "metadata": {
        "id": "lP73jL4REbY7",
        "colab_type": "code",
        "colab": {
          "base_uri": "https://localhost:8080/",
          "height": 134
        },
        "outputId": "5d8962cb-9542-4fe0-ecc9-136742999e14"
      },
      "source": [
        "t_test_v=t_vectorizer.transform(x_test)\n",
        "t_test_v.toarray()"
      ],
      "execution_count": 21,
      "outputs": [
        {
          "output_type": "execute_result",
          "data": {
            "text/plain": [
              "array([[0., 0., 0., ..., 0., 0., 0.],\n",
              "       [0., 0., 0., ..., 0., 0., 0.],\n",
              "       [0., 0., 0., ..., 0., 0., 0.],\n",
              "       ...,\n",
              "       [0., 0., 0., ..., 0., 0., 0.],\n",
              "       [0., 0., 0., ..., 0., 0., 0.],\n",
              "       [0., 0., 0., ..., 0., 0., 0.]])"
            ]
          },
          "metadata": {
            "tags": []
          },
          "execution_count": 21
        }
      ]
    },
    {
      "cell_type": "markdown",
      "metadata": {
        "id": "4-2DCYLjEbZA",
        "colab_type": "text"
      },
      "source": [
        "### Model Building and Grid Search"
      ]
    },
    {
      "cell_type": "markdown",
      "metadata": {
        "id": "pp49e-LwEbZB",
        "colab_type": "text"
      },
      "source": [
        "### Support Vector Machine(SVM)"
      ]
    },
    {
      "cell_type": "code",
      "metadata": {
        "id": "8BNGXasuEbZC",
        "colab_type": "code",
        "colab": {}
      },
      "source": [
        "\n",
        "from sklearn.model_selection import GridSearchCV\n",
        "from sklearn.metrics import make_scorer, f1_score\n",
        "from sklearn.svm import SVC"
      ],
      "execution_count": 0,
      "outputs": []
    },
    {
      "cell_type": "code",
      "metadata": {
        "id": "UwdiZulYEbZK",
        "colab_type": "code",
        "colab": {}
      },
      "source": [
        "grid_param1 = {'kernel':('linear', 'rbf'), 'C':(1, 10,20)}"
      ],
      "execution_count": 0,
      "outputs": []
    },
    {
      "cell_type": "markdown",
      "metadata": {
        "id": "C0bu_CrhEbZP",
        "colab_type": "text"
      },
      "source": [
        "#### find best_score and params for CountVectorizer "
      ]
    },
    {
      "cell_type": "code",
      "metadata": {
        "id": "mIQhhT1HEbZP",
        "colab_type": "code",
        "colab": {
          "base_uri": "https://localhost:8080/",
          "height": 202
        },
        "outputId": "0d254229-1e01-43f4-cbf9-114e09de1780"
      },
      "source": [
        "\n",
        "scorer = make_scorer(f1_score, average='micro')\n",
        "clf = GridSearchCV(SVC(), grid_param1,scoring=scorer)\n",
        "clf.fit(c_train_v, y_train)"
      ],
      "execution_count": 49,
      "outputs": [
        {
          "output_type": "execute_result",
          "data": {
            "text/plain": [
              "GridSearchCV(cv=None, error_score=nan,\n",
              "             estimator=SVC(C=1.0, break_ties=False, cache_size=200,\n",
              "                           class_weight=None, coef0=0.0,\n",
              "                           decision_function_shape='ovr', degree=3,\n",
              "                           gamma='scale', kernel='rbf', max_iter=-1,\n",
              "                           probability=False, random_state=None, shrinking=True,\n",
              "                           tol=0.001, verbose=False),\n",
              "             iid='deprecated', n_jobs=None,\n",
              "             param_grid={'C': (1, 10, 20), 'kernel': ('linear', 'rbf')},\n",
              "             pre_dispatch='2*n_jobs', refit=True, return_train_score=False,\n",
              "             scoring=make_scorer(f1_score, average=micro), verbose=0)"
            ]
          },
          "metadata": {
            "tags": []
          },
          "execution_count": 49
        }
      ]
    },
    {
      "cell_type": "code",
      "metadata": {
        "id": "L7FVKsB5EbZU",
        "colab_type": "code",
        "colab": {
          "base_uri": "https://localhost:8080/",
          "height": 34
        },
        "outputId": "4a77a5c8-b7cf-4818-9ad5-19c47dbf18d8"
      },
      "source": [
        "print(clf.best_score_, clf.best_params_)"
      ],
      "execution_count": 50,
      "outputs": [
        {
          "output_type": "stream",
          "text": [
            "0.6987284810677747 {'C': 10, 'kernel': 'rbf'}\n"
          ],
          "name": "stdout"
        }
      ]
    },
    {
      "cell_type": "markdown",
      "metadata": {
        "id": "8GSoFiSxEbZZ",
        "colab_type": "text"
      },
      "source": [
        "#### find best_score and params for TfidfVectorizer "
      ]
    },
    {
      "cell_type": "code",
      "metadata": {
        "id": "ZTAxo-QQEbZZ",
        "colab_type": "code",
        "colab": {
          "base_uri": "https://localhost:8080/",
          "height": 202
        },
        "outputId": "6a3c6a77-2bff-426e-fc51-ba258c147960"
      },
      "source": [
        "scorer = make_scorer(f1_score, average='micro')\n",
        "clf = GridSearchCV(SVC(), grid_param1,scoring=scorer)\n",
        "clf.fit(t_train_v, y_train)"
      ],
      "execution_count": 52,
      "outputs": [
        {
          "output_type": "execute_result",
          "data": {
            "text/plain": [
              "GridSearchCV(cv=None, error_score=nan,\n",
              "             estimator=SVC(C=1.0, break_ties=False, cache_size=200,\n",
              "                           class_weight=None, coef0=0.0,\n",
              "                           decision_function_shape='ovr', degree=3,\n",
              "                           gamma='scale', kernel='rbf', max_iter=-1,\n",
              "                           probability=False, random_state=None, shrinking=True,\n",
              "                           tol=0.001, verbose=False),\n",
              "             iid='deprecated', n_jobs=None,\n",
              "             param_grid={'C': (1, 10, 20), 'kernel': ('linear', 'rbf')},\n",
              "             pre_dispatch='2*n_jobs', refit=True, return_train_score=False,\n",
              "             scoring=make_scorer(f1_score, average=micro), verbose=0)"
            ]
          },
          "metadata": {
            "tags": []
          },
          "execution_count": 52
        }
      ]
    },
    {
      "cell_type": "code",
      "metadata": {
        "id": "Q8qLHSS5EbZe",
        "colab_type": "code",
        "colab": {
          "base_uri": "https://localhost:8080/",
          "height": 34
        },
        "outputId": "b15feea2-ef2c-4558-bd9e-b4e8738d8648"
      },
      "source": [
        "print(clf.best_score_, clf.best_params_)"
      ],
      "execution_count": 53,
      "outputs": [
        {
          "output_type": "stream",
          "text": [
            "0.6977766782555387 {'C': 10, 'kernel': 'rbf'}\n"
          ],
          "name": "stdout"
        }
      ]
    },
    {
      "cell_type": "markdown",
      "metadata": {
        "id": "pULGywZKEbZl",
        "colab_type": "text"
      },
      "source": [
        "##  Model Evaluation \n",
        "CountVectorizer"
      ]
    },
    {
      "cell_type": "code",
      "metadata": {
        "id": "5MJeM9HREbZn",
        "colab_type": "code",
        "colab": {}
      },
      "source": [
        "import sklearn.metrics as metrics\n"
      ],
      "execution_count": 0,
      "outputs": []
    },
    {
      "cell_type": "code",
      "metadata": {
        "id": "QCPmZcgTEbZs",
        "colab_type": "code",
        "colab": {
          "base_uri": "https://localhost:8080/",
          "height": 218
        },
        "outputId": "af10e379-3bc6-4cd0-fff0-bbaf5365827b"
      },
      "source": [
        "model = SVC(random_state=1,kernel='rbf', C=10)\n",
        "model.fit(c_train_v, y_train)\n",
        "y_pred = model.predict(c_test_v)\n",
        "print(metrics.classification_report(y_test, y_pred))"
      ],
      "execution_count": 54,
      "outputs": [
        {
          "output_type": "stream",
          "text": [
            "              precision    recall  f1-score   support\n",
            "\n",
            "           0       0.75      0.66      0.70       247\n",
            "           1       0.63      0.56      0.59       291\n",
            "           2       0.70      0.72      0.71       469\n",
            "           3       0.74      0.80      0.77      1759\n",
            "           4       0.71      0.64      0.67       912\n",
            "\n",
            "    accuracy                           0.72      3678\n",
            "   macro avg       0.71      0.68      0.69      3678\n",
            "weighted avg       0.72      0.72      0.72      3678\n",
            "\n"
          ],
          "name": "stdout"
        }
      ]
    },
    {
      "cell_type": "markdown",
      "metadata": {
        "id": "TmUKSWpgEbZx",
        "colab_type": "text"
      },
      "source": [
        "## Model Evalution\n",
        "TfidfVectorizer "
      ]
    },
    {
      "cell_type": "code",
      "metadata": {
        "id": "mxMQOncfEbZy",
        "colab_type": "code",
        "colab": {
          "base_uri": "https://localhost:8080/",
          "height": 218
        },
        "outputId": "d7e16fa0-53b5-4702-dbbf-8d904b33439f"
      },
      "source": [
        "model = SVC(random_state=1,kernel='rbf', C=1)\n",
        "model.fit(t_train_v, y_train)\n",
        "y_pred = model.predict(c_test_v)\n",
        "print(metrics.classification_report(y_test, y_pred))"
      ],
      "execution_count": 55,
      "outputs": [
        {
          "output_type": "stream",
          "text": [
            "              precision    recall  f1-score   support\n",
            "\n",
            "           0       0.65      0.05      0.10       247\n",
            "           1       0.62      0.08      0.14       291\n",
            "           2       0.74      0.15      0.25       469\n",
            "           3       0.50      0.97      0.66      1759\n",
            "           4       0.65      0.05      0.10       912\n",
            "\n",
            "    accuracy                           0.51      3678\n",
            "   macro avg       0.63      0.26      0.25      3678\n",
            "weighted avg       0.59      0.51      0.39      3678\n",
            "\n"
          ],
          "name": "stdout"
        }
      ]
    },
    {
      "cell_type": "markdown",
      "metadata": {
        "id": "d_foHwXdEbZ2",
        "colab_type": "text"
      },
      "source": [
        "## Decision Tree Classifier"
      ]
    },
    {
      "cell_type": "code",
      "metadata": {
        "id": "I1M_ehUGEbZ4",
        "colab_type": "code",
        "colab": {}
      },
      "source": [
        "from sklearn.tree import DecisionTreeClassifier\n"
      ],
      "execution_count": 0,
      "outputs": []
    },
    {
      "cell_type": "markdown",
      "metadata": {
        "id": "KIJLozjsEbZ-",
        "colab_type": "text"
      },
      "source": [
        "### Model Building and Grid Search"
      ]
    },
    {
      "cell_type": "code",
      "metadata": {
        "id": "8lsK64F1EbZ_",
        "colab_type": "code",
        "colab": {}
      },
      "source": [
        "grid_param2 = {\n",
        "    'max_depth': (3, 5, 7, 9, 11, 13),\n",
        "    'min_samples_split': (2, 4, 6, 8, 10)\n",
        "}"
      ],
      "execution_count": 0,
      "outputs": []
    },
    {
      "cell_type": "code",
      "metadata": {
        "id": "dP0cV53lEbaG",
        "colab_type": "code",
        "colab": {
          "base_uri": "https://localhost:8080/",
          "height": 319
        },
        "outputId": "e6e6bfd0-6ccd-4868-e41b-8bf6f137c6be"
      },
      "source": [
        "scorer = make_scorer(f1_score, average='micro')\n",
        "clf=GridSearchCV(DecisionTreeClassifier(),grid_param2,scoring=scorer)\n",
        "clf.fit(c_train_v, y_train)"
      ],
      "execution_count": 26,
      "outputs": [
        {
          "output_type": "execute_result",
          "data": {
            "text/plain": [
              "GridSearchCV(cv=None, error_score=nan,\n",
              "             estimator=DecisionTreeClassifier(ccp_alpha=0.0, class_weight=None,\n",
              "                                              criterion='gini', max_depth=None,\n",
              "                                              max_features=None,\n",
              "                                              max_leaf_nodes=None,\n",
              "                                              min_impurity_decrease=0.0,\n",
              "                                              min_impurity_split=None,\n",
              "                                              min_samples_leaf=1,\n",
              "                                              min_samples_split=2,\n",
              "                                              min_weight_fraction_leaf=0.0,\n",
              "                                              presort='deprecated',\n",
              "                                              random_state=None,\n",
              "                                              splitter='best'),\n",
              "             iid='deprecated', n_jobs=None,\n",
              "             param_grid={'max_depth': (3, 5, 7, 9, 11, 13),\n",
              "                         'min_samples_split': (2, 4, 6, 8, 10)},\n",
              "             pre_dispatch='2*n_jobs', refit=True, return_train_score=False,\n",
              "             scoring=make_scorer(f1_score, average=micro), verbose=0)"
            ]
          },
          "metadata": {
            "tags": []
          },
          "execution_count": 26
        }
      ]
    },
    {
      "cell_type": "code",
      "metadata": {
        "id": "VJepvhUREbaN",
        "colab_type": "code",
        "colab": {
          "base_uri": "https://localhost:8080/",
          "height": 34
        },
        "outputId": "600435b2-ae6c-454a-e26b-9e1922d40d2a"
      },
      "source": [
        "print(clf.best_score_, clf.best_params_)"
      ],
      "execution_count": 27,
      "outputs": [
        {
          "output_type": "stream",
          "text": [
            "0.5118621587178831 {'max_depth': 13, 'min_samples_split': 8}\n"
          ],
          "name": "stdout"
        }
      ]
    },
    {
      "cell_type": "markdown",
      "metadata": {
        "id": "TS3MDq2bEbaY",
        "colab_type": "text"
      },
      "source": [
        "## Model Evalution"
      ]
    },
    {
      "cell_type": "code",
      "metadata": {
        "id": "K9FzrtygEbaZ",
        "colab_type": "code",
        "colab": {
          "base_uri": "https://localhost:8080/",
          "height": 218
        },
        "outputId": "7f204400-26fb-4bdf-e82c-bdb3fe474027"
      },
      "source": [
        "import sklearn.metrics as metrics\n",
        "model =DecisionTreeClassifier(random_state=1,max_depth=13,min_samples_split=8)\n",
        "model.fit(c_train_v, y_train)\n",
        "preds = model.predict(c_test_v)\n",
        "print(metrics.classification_report(y_test, preds))"
      ],
      "execution_count": 28,
      "outputs": [
        {
          "output_type": "stream",
          "text": [
            "              precision    recall  f1-score   support\n",
            "\n",
            "           0       0.61      0.11      0.19       247\n",
            "           1       0.71      0.05      0.10       291\n",
            "           2       0.71      0.01      0.02       469\n",
            "           3       0.50      0.97      0.66      1759\n",
            "           4       0.69      0.16      0.26       912\n",
            "\n",
            "    accuracy                           0.51      3678\n",
            "   macro avg       0.65      0.26      0.24      3678\n",
            "weighted avg       0.60      0.51      0.40      3678\n",
            "\n"
          ],
          "name": "stdout"
        }
      ]
    },
    {
      "cell_type": "markdown",
      "metadata": {
        "id": "BzG971FPEbag",
        "colab_type": "text"
      },
      "source": [
        "# Random Forest"
      ]
    },
    {
      "cell_type": "code",
      "metadata": {
        "id": "QPpYCzYzEbah",
        "colab_type": "code",
        "colab": {}
      },
      "source": [
        "from sklearn.ensemble import RandomForestClassifier"
      ],
      "execution_count": 0,
      "outputs": []
    },
    {
      "cell_type": "code",
      "metadata": {
        "id": "eT-Xhm5KEbao",
        "colab_type": "code",
        "colab": {}
      },
      "source": [
        "\n",
        "\n",
        "\n",
        "grid_param3 = {\n",
        "    'max_depth': (3, 5, 7, 9, 11, 13),\n",
        "    'min_samples_split': (2, 4, 6, 8, 10),\n",
        "    'n_estimators':(10,50,100),\n",
        "\n",
        "}"
      ],
      "execution_count": 0,
      "outputs": []
    },
    {
      "cell_type": "code",
      "metadata": {
        "id": "MiwQxkkXEbau",
        "colab_type": "code",
        "colab": {
          "base_uri": "https://localhost:8080/",
          "height": 386
        },
        "outputId": "e54aed22-ab78-43a1-f0fb-42fff65b094d"
      },
      "source": [
        "\n",
        "scorer = make_scorer(f1_score, average='micro')\n",
        "clf=GridSearchCV(RandomForestClassifier(),grid_param3,scoring=scorer)\n",
        "clf.fit(c_train_v, y_train)"
      ],
      "execution_count": 31,
      "outputs": [
        {
          "output_type": "execute_result",
          "data": {
            "text/plain": [
              "GridSearchCV(cv=None, error_score=nan,\n",
              "             estimator=RandomForestClassifier(bootstrap=True, ccp_alpha=0.0,\n",
              "                                              class_weight=None,\n",
              "                                              criterion='gini', max_depth=None,\n",
              "                                              max_features='auto',\n",
              "                                              max_leaf_nodes=None,\n",
              "                                              max_samples=None,\n",
              "                                              min_impurity_decrease=0.0,\n",
              "                                              min_impurity_split=None,\n",
              "                                              min_samples_leaf=1,\n",
              "                                              min_samples_split=2,\n",
              "                                              min_weight_fraction_leaf=0.0,\n",
              "                                              n_estimators=100, n_jobs=None,\n",
              "                                              oob_score=False,\n",
              "                                              random_state=None, verbose=0,\n",
              "                                              warm_start=False),\n",
              "             iid='deprecated', n_jobs=None,\n",
              "             param_grid={'max_depth': (3, 5, 7, 9, 11, 13),\n",
              "                         'min_samples_split': (2, 4, 6, 8, 10),\n",
              "                         'n_estimators': (10, 50, 100)},\n",
              "             pre_dispatch='2*n_jobs', refit=True, return_train_score=False,\n",
              "             scoring=make_scorer(f1_score, average=micro), verbose=0)"
            ]
          },
          "metadata": {
            "tags": []
          },
          "execution_count": 31
        }
      ]
    },
    {
      "cell_type": "code",
      "metadata": {
        "id": "GGK8ZQX-Eba0",
        "colab_type": "code",
        "colab": {
          "base_uri": "https://localhost:8080/",
          "height": 34
        },
        "outputId": "388ba72d-2552-4bd9-8bbf-1a6f1914ab2d"
      },
      "source": [
        "print(clf.best_score_, clf.best_params_)"
      ],
      "execution_count": 32,
      "outputs": [
        {
          "output_type": "stream",
          "text": [
            "0.48970156517914704 {'max_depth': 13, 'min_samples_split': 6, 'n_estimators': 10}\n"
          ],
          "name": "stdout"
        }
      ]
    },
    {
      "cell_type": "markdown",
      "metadata": {
        "id": "5mHWRTHGEba5",
        "colab_type": "text"
      },
      "source": [
        "## Model Evalution"
      ]
    },
    {
      "cell_type": "code",
      "metadata": {
        "id": "zh6nPsxxEba6",
        "colab_type": "code",
        "colab": {
          "base_uri": "https://localhost:8080/",
          "height": 337
        },
        "outputId": "fa28ba8f-d5ae-4365-eaf0-714c90e4ce4f"
      },
      "source": [
        "model =RandomForestClassifier(n_estimators=10,min_samples_split=6,max_depth=13)\n",
        "# print(c_train_v.shape)\n",
        "# print(y_train.shape)\n",
        "model.fit(c_train_v, y_train)\n",
        "preds = model.predict(c_train_v)\n",
        "print(metrics.classification_report(y_test, preds))"
      ],
      "execution_count": 33,
      "outputs": [
        {
          "output_type": "error",
          "ename": "ValueError",
          "evalue": "ignored",
          "traceback": [
            "\u001b[0;31m---------------------------------------------------------------------------\u001b[0m",
            "\u001b[0;31mValueError\u001b[0m                                Traceback (most recent call last)",
            "\u001b[0;32m<ipython-input-33-385097e70a17>\u001b[0m in \u001b[0;36m<module>\u001b[0;34m()\u001b[0m\n\u001b[1;32m      4\u001b[0m \u001b[0mmodel\u001b[0m\u001b[0;34m.\u001b[0m\u001b[0mfit\u001b[0m\u001b[0;34m(\u001b[0m\u001b[0mc_train_v\u001b[0m\u001b[0;34m,\u001b[0m \u001b[0my_train\u001b[0m\u001b[0;34m)\u001b[0m\u001b[0;34m\u001b[0m\u001b[0;34m\u001b[0m\u001b[0m\n\u001b[1;32m      5\u001b[0m \u001b[0mpreds\u001b[0m \u001b[0;34m=\u001b[0m \u001b[0mmodel\u001b[0m\u001b[0;34m.\u001b[0m\u001b[0mpredict\u001b[0m\u001b[0;34m(\u001b[0m\u001b[0mc_train_v\u001b[0m\u001b[0;34m)\u001b[0m\u001b[0;34m\u001b[0m\u001b[0;34m\u001b[0m\u001b[0m\n\u001b[0;32m----> 6\u001b[0;31m \u001b[0mprint\u001b[0m\u001b[0;34m(\u001b[0m\u001b[0mmetrics\u001b[0m\u001b[0;34m.\u001b[0m\u001b[0mclassification_report\u001b[0m\u001b[0;34m(\u001b[0m\u001b[0my_test\u001b[0m\u001b[0;34m,\u001b[0m \u001b[0mpreds\u001b[0m\u001b[0;34m)\u001b[0m\u001b[0;34m)\u001b[0m\u001b[0;34m\u001b[0m\u001b[0;34m\u001b[0m\u001b[0m\n\u001b[0m",
            "\u001b[0;32m/usr/local/lib/python3.6/dist-packages/sklearn/metrics/_classification.py\u001b[0m in \u001b[0;36mclassification_report\u001b[0;34m(y_true, y_pred, labels, target_names, sample_weight, digits, output_dict, zero_division)\u001b[0m\n\u001b[1;32m   1969\u001b[0m     \"\"\"\n\u001b[1;32m   1970\u001b[0m \u001b[0;34m\u001b[0m\u001b[0m\n\u001b[0;32m-> 1971\u001b[0;31m     \u001b[0my_type\u001b[0m\u001b[0;34m,\u001b[0m \u001b[0my_true\u001b[0m\u001b[0;34m,\u001b[0m \u001b[0my_pred\u001b[0m \u001b[0;34m=\u001b[0m \u001b[0m_check_targets\u001b[0m\u001b[0;34m(\u001b[0m\u001b[0my_true\u001b[0m\u001b[0;34m,\u001b[0m \u001b[0my_pred\u001b[0m\u001b[0;34m)\u001b[0m\u001b[0;34m\u001b[0m\u001b[0;34m\u001b[0m\u001b[0m\n\u001b[0m\u001b[1;32m   1972\u001b[0m \u001b[0;34m\u001b[0m\u001b[0m\n\u001b[1;32m   1973\u001b[0m     \u001b[0mlabels_given\u001b[0m \u001b[0;34m=\u001b[0m \u001b[0;32mTrue\u001b[0m\u001b[0;34m\u001b[0m\u001b[0;34m\u001b[0m\u001b[0m\n",
            "\u001b[0;32m/usr/local/lib/python3.6/dist-packages/sklearn/metrics/_classification.py\u001b[0m in \u001b[0;36m_check_targets\u001b[0;34m(y_true, y_pred)\u001b[0m\n\u001b[1;32m     78\u001b[0m     \u001b[0my_pred\u001b[0m \u001b[0;34m:\u001b[0m \u001b[0marray\u001b[0m \u001b[0;32mor\u001b[0m \u001b[0mindicator\u001b[0m \u001b[0mmatrix\u001b[0m\u001b[0;34m\u001b[0m\u001b[0;34m\u001b[0m\u001b[0m\n\u001b[1;32m     79\u001b[0m     \"\"\"\n\u001b[0;32m---> 80\u001b[0;31m     \u001b[0mcheck_consistent_length\u001b[0m\u001b[0;34m(\u001b[0m\u001b[0my_true\u001b[0m\u001b[0;34m,\u001b[0m \u001b[0my_pred\u001b[0m\u001b[0;34m)\u001b[0m\u001b[0;34m\u001b[0m\u001b[0;34m\u001b[0m\u001b[0m\n\u001b[0m\u001b[1;32m     81\u001b[0m     \u001b[0mtype_true\u001b[0m \u001b[0;34m=\u001b[0m \u001b[0mtype_of_target\u001b[0m\u001b[0;34m(\u001b[0m\u001b[0my_true\u001b[0m\u001b[0;34m)\u001b[0m\u001b[0;34m\u001b[0m\u001b[0;34m\u001b[0m\u001b[0m\n\u001b[1;32m     82\u001b[0m     \u001b[0mtype_pred\u001b[0m \u001b[0;34m=\u001b[0m \u001b[0mtype_of_target\u001b[0m\u001b[0;34m(\u001b[0m\u001b[0my_pred\u001b[0m\u001b[0;34m)\u001b[0m\u001b[0;34m\u001b[0m\u001b[0;34m\u001b[0m\u001b[0m\n",
            "\u001b[0;32m/usr/local/lib/python3.6/dist-packages/sklearn/utils/validation.py\u001b[0m in \u001b[0;36mcheck_consistent_length\u001b[0;34m(*arrays)\u001b[0m\n\u001b[1;32m    210\u001b[0m     \u001b[0;32mif\u001b[0m \u001b[0mlen\u001b[0m\u001b[0;34m(\u001b[0m\u001b[0muniques\u001b[0m\u001b[0;34m)\u001b[0m \u001b[0;34m>\u001b[0m \u001b[0;36m1\u001b[0m\u001b[0;34m:\u001b[0m\u001b[0;34m\u001b[0m\u001b[0;34m\u001b[0m\u001b[0m\n\u001b[1;32m    211\u001b[0m         raise ValueError(\"Found input variables with inconsistent numbers of\"\n\u001b[0;32m--> 212\u001b[0;31m                          \" samples: %r\" % [int(l) for l in lengths])\n\u001b[0m\u001b[1;32m    213\u001b[0m \u001b[0;34m\u001b[0m\u001b[0m\n\u001b[1;32m    214\u001b[0m \u001b[0;34m\u001b[0m\u001b[0m\n",
            "\u001b[0;31mValueError\u001b[0m: Found input variables with inconsistent numbers of samples: [3678, 14711]"
          ]
        }
      ]
    },
    {
      "cell_type": "markdown",
      "metadata": {
        "id": "z4TyUQnFEbbA",
        "colab_type": "text"
      },
      "source": [
        "## Adaboost Classifier"
      ]
    },
    {
      "cell_type": "code",
      "metadata": {
        "id": "k9cLn_KZEbbA",
        "colab_type": "code",
        "colab": {}
      },
      "source": [
        "from sklearn.ensemble import AdaBoostClassifier"
      ],
      "execution_count": 0,
      "outputs": []
    },
    {
      "cell_type": "code",
      "metadata": {
        "id": "N_1MIcbJEbbE",
        "colab_type": "code",
        "colab": {}
      },
      "source": [
        "grid_param4 = {\n",
        "    'learning_rate':(0.001,0.1),\n",
        "    'n_estimators':(10,50,100),\n",
        "\n",
        "}"
      ],
      "execution_count": 0,
      "outputs": []
    },
    {
      "cell_type": "code",
      "metadata": {
        "id": "N3E4KFtlEbbM",
        "colab_type": "code",
        "colab": {
          "base_uri": "https://localhost:8080/",
          "height": 185
        },
        "outputId": "f16be09e-4793-4753-bc95-d0399b981e80"
      },
      "source": [
        "scorer = make_scorer(f1_score, average='micro')\n",
        "clf=GridSearchCV(AdaBoostClassifier(),grid_param4,scoring=scorer)\n",
        "clf.fit(c_train_v, y_train)"
      ],
      "execution_count": 38,
      "outputs": [
        {
          "output_type": "execute_result",
          "data": {
            "text/plain": [
              "GridSearchCV(cv=None, error_score=nan,\n",
              "             estimator=AdaBoostClassifier(algorithm='SAMME.R',\n",
              "                                          base_estimator=None,\n",
              "                                          learning_rate=1.0, n_estimators=50,\n",
              "                                          random_state=None),\n",
              "             iid='deprecated', n_jobs=None,\n",
              "             param_grid={'learning_rate': (0.001, 0.1),\n",
              "                         'n_estimators': (10, 50, 100)},\n",
              "             pre_dispatch='2*n_jobs', refit=True, return_train_score=False,\n",
              "             scoring=make_scorer(f1_score, average=micro), verbose=0)"
            ]
          },
          "metadata": {
            "tags": []
          },
          "execution_count": 38
        }
      ]
    },
    {
      "cell_type": "code",
      "metadata": {
        "id": "FAB1UFR3EbbR",
        "colab_type": "code",
        "colab": {
          "base_uri": "https://localhost:8080/",
          "height": 34
        },
        "outputId": "094fd8b9-1a39-433e-8930-5bce9eb8b963"
      },
      "source": [
        "print(clf.best_score_, clf.best_params_)"
      ],
      "execution_count": 39,
      "outputs": [
        {
          "output_type": "stream",
          "text": [
            "0.4845353814013965 {'learning_rate': 0.1, 'n_estimators': 100}\n"
          ],
          "name": "stdout"
        }
      ]
    },
    {
      "cell_type": "markdown",
      "metadata": {
        "id": "sAX9h2dIEbbd",
        "colab_type": "text"
      },
      "source": [
        "## Model Evalution"
      ]
    },
    {
      "cell_type": "code",
      "metadata": {
        "id": "T4bam6kJEbbe",
        "colab_type": "code",
        "colab": {
          "base_uri": "https://localhost:8080/",
          "height": 218
        },
        "outputId": "4d39961c-0368-4a52-e774-9f32d2d7cc70"
      },
      "source": [
        "model =AdaBoostClassifier(learning_rate=0.1, n_estimators=100)\n",
        "model.fit(c_train_v, y_train)\n",
        "preds = model.predict(c_test_v)\n",
        "print(metrics.classification_report(y_test, preds))"
      ],
      "execution_count": 40,
      "outputs": [
        {
          "output_type": "stream",
          "text": [
            "              precision    recall  f1-score   support\n",
            "\n",
            "           0       0.84      0.09      0.15       247\n",
            "           1       0.33      0.00      0.01       291\n",
            "           2       0.20      0.00      0.00       469\n",
            "           3       0.49      1.00      0.65      1759\n",
            "           4       0.54      0.02      0.03       912\n",
            "\n",
            "    accuracy                           0.49      3678\n",
            "   macro avg       0.48      0.22      0.17      3678\n",
            "weighted avg       0.47      0.49      0.33      3678\n",
            "\n"
          ],
          "name": "stdout"
        }
      ]
    },
    {
      "cell_type": "markdown",
      "metadata": {
        "id": "LolHiIwbEbbj",
        "colab_type": "text"
      },
      "source": [
        "## Gradient Boosting"
      ]
    },
    {
      "cell_type": "code",
      "metadata": {
        "id": "4UEIBnlKEbbp",
        "colab_type": "code",
        "colab": {}
      },
      "source": [
        "from sklearn.ensemble import GradientBoostingClassifier"
      ],
      "execution_count": 0,
      "outputs": []
    },
    {
      "cell_type": "code",
      "metadata": {
        "id": "ujC-chWGEbbu",
        "colab_type": "code",
        "colab": {}
      },
      "source": [
        "\n",
        "\n",
        "grid_param5 = {\n",
        "    # 'max_depth': (3, 5, 7, 9, 11, 13),\n",
        "    'min_samples_split': (2, 4, 6, 8),\n",
        "    'n_estimators':(10,50),\n",
        "\n",
        "}"
      ],
      "execution_count": 0,
      "outputs": []
    },
    {
      "cell_type": "code",
      "metadata": {
        "id": "V86Jym8jEbbz",
        "colab_type": "code",
        "colab": {
          "base_uri": "https://localhost:8080/",
          "height": 420
        },
        "outputId": "bc7a00cd-3093-4e3e-e161-8366622a2afc"
      },
      "source": [
        "scorer = make_scorer(f1_score, average='micro')\n",
        "clf=GridSearchCV(GradientBoostingClassifier(),grid_param5,scoring=scorer)\n",
        "clf.fit(c_train_v, y_train)\n"
      ],
      "execution_count": 58,
      "outputs": [
        {
          "output_type": "execute_result",
          "data": {
            "text/plain": [
              "GridSearchCV(cv=None, error_score=nan,\n",
              "             estimator=GradientBoostingClassifier(ccp_alpha=0.0,\n",
              "                                                  criterion='friedman_mse',\n",
              "                                                  init=None, learning_rate=0.1,\n",
              "                                                  loss='deviance', max_depth=3,\n",
              "                                                  max_features=None,\n",
              "                                                  max_leaf_nodes=None,\n",
              "                                                  min_impurity_decrease=0.0,\n",
              "                                                  min_impurity_split=None,\n",
              "                                                  min_samples_leaf=1,\n",
              "                                                  min_samples_split=2,\n",
              "                                                  min_weight_fraction_leaf=0.0,\n",
              "                                                  n_estimators=100,\n",
              "                                                  n_iter_no_change=None,\n",
              "                                                  presort='deprecated',\n",
              "                                                  random_state=None,\n",
              "                                                  subsample=1.0, tol=0.0001,\n",
              "                                                  validation_fraction=0.1,\n",
              "                                                  verbose=0, warm_start=False),\n",
              "             iid='deprecated', n_jobs=None,\n",
              "             param_grid={'min_samples_split': (2, 4, 6, 8),\n",
              "                         'n_estimators': (10, 50)},\n",
              "             pre_dispatch='2*n_jobs', refit=True, return_train_score=False,\n",
              "             scoring=make_scorer(f1_score, average=micro), verbose=0)"
            ]
          },
          "metadata": {
            "tags": []
          },
          "execution_count": 58
        }
      ]
    },
    {
      "cell_type": "code",
      "metadata": {
        "id": "dheMBciuEbb4",
        "colab_type": "code",
        "colab": {
          "base_uri": "https://localhost:8080/",
          "height": 34
        },
        "outputId": "836357d7-cb41-4c77-d061-b65e0035b5c3"
      },
      "source": [
        "print(clf.best_score_, clf.best_params_)"
      ],
      "execution_count": 59,
      "outputs": [
        {
          "output_type": "stream",
          "text": [
            "0.5280402887123647 {'min_samples_split': 2, 'n_estimators': 50}\n"
          ],
          "name": "stdout"
        }
      ]
    },
    {
      "cell_type": "markdown",
      "metadata": {
        "id": "VBKN8HyWEbcA",
        "colab_type": "text"
      },
      "source": [
        "## Model Evalution"
      ]
    },
    {
      "cell_type": "code",
      "metadata": {
        "id": "b2HdeMNwEbcB",
        "colab_type": "code",
        "colab": {
          "base_uri": "https://localhost:8080/",
          "height": 218
        },
        "outputId": "3b23adcd-f46c-40e2-c3d6-8e5cfb512155"
      },
      "source": [
        "model =GradientBoostingClassifier(min_samples_split=2, n_estimators=50)\n",
        "model.fit(c_train_v, y_train)\n",
        "preds = model.predict(c_test_v)\n",
        "print(metrics.classification_report(y_test, preds))"
      ],
      "execution_count": 60,
      "outputs": [
        {
          "output_type": "stream",
          "text": [
            "              precision    recall  f1-score   support\n",
            "\n",
            "           0       0.83      0.14      0.24       247\n",
            "           1       0.68      0.06      0.11       291\n",
            "           2       0.76      0.03      0.05       469\n",
            "           3       0.51      0.96      0.66      1759\n",
            "           4       0.69      0.21      0.32       912\n",
            "\n",
            "    accuracy                           0.53      3678\n",
            "   macro avg       0.70      0.28      0.28      3678\n",
            "weighted avg       0.62      0.53      0.43      3678\n",
            "\n"
          ],
          "name": "stdout"
        }
      ]
    },
    {
      "cell_type": "code",
      "metadata": {
        "id": "CBRUvMGEEbcI",
        "colab_type": "code",
        "colab": {}
      },
      "source": [
        ""
      ],
      "execution_count": 0,
      "outputs": []
    },
    {
      "cell_type": "code",
      "metadata": {
        "id": "PtZQkVVAEbcL",
        "colab_type": "code",
        "colab": {}
      },
      "source": [
        ""
      ],
      "execution_count": 0,
      "outputs": []
    }
  ]
}